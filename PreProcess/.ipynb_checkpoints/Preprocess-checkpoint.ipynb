{
 "cells": [
  {
   "cell_type": "code",
   "execution_count": 1,
   "metadata": {
    "collapsed": true
   },
   "outputs": [],
   "source": [
    "import pandas as pd\n",
    "import numpy as np\n",
    "import matplotlib.pyplot as plt\n",
    "import seaborn as sns\n",
    "%matplotlib inline"
   ]
  },
  {
   "cell_type": "code",
   "execution_count": 13,
   "metadata": {},
   "outputs": [],
   "source": [
    "df = pd.read_csv('../RawData/round1_ijcai_18_train_20180301.txt', sep=' ')"
   ]
  },
  {
   "cell_type": "code",
   "execution_count": 100,
   "metadata": {},
   "outputs": [
    {
     "data": {
      "text/html": [
       "<div>\n",
       "<style>\n",
       "    .dataframe thead tr:only-child th {\n",
       "        text-align: right;\n",
       "    }\n",
       "\n",
       "    .dataframe thead th {\n",
       "        text-align: left;\n",
       "    }\n",
       "\n",
       "    .dataframe tbody tr th {\n",
       "        vertical-align: top;\n",
       "    }\n",
       "</style>\n",
       "<table border=\"1\" class=\"dataframe\">\n",
       "  <thead>\n",
       "    <tr style=\"text-align: right;\">\n",
       "      <th></th>\n",
       "      <th>instance_id</th>\n",
       "      <th>item_id</th>\n",
       "      <th>item_category_list</th>\n",
       "      <th>item_property_list</th>\n",
       "      <th>item_brand_id</th>\n",
       "      <th>item_city_id</th>\n",
       "      <th>item_price_level</th>\n",
       "      <th>item_sales_level</th>\n",
       "      <th>item_collected_level</th>\n",
       "      <th>item_pv_level</th>\n",
       "      <th>...</th>\n",
       "      <th>context_page_id</th>\n",
       "      <th>predict_category_property</th>\n",
       "      <th>shop_id</th>\n",
       "      <th>shop_review_num_level</th>\n",
       "      <th>shop_review_positive_rate</th>\n",
       "      <th>shop_star_level</th>\n",
       "      <th>shop_score_service</th>\n",
       "      <th>shop_score_delivery</th>\n",
       "      <th>shop_score_description</th>\n",
       "      <th>is_trade</th>\n",
       "    </tr>\n",
       "  </thead>\n",
       "  <tbody>\n",
       "    <tr>\n",
       "      <th>0</th>\n",
       "      <td>108641074714126964</td>\n",
       "      <td>3412720377098676069</td>\n",
       "      <td>7908382889764677758;5799347067982556520</td>\n",
       "      <td>2072967855524022579;5131280576272319091;263639...</td>\n",
       "      <td>1975590437749032870</td>\n",
       "      <td>3948283326616421003</td>\n",
       "      <td>3</td>\n",
       "      <td>3</td>\n",
       "      <td>4</td>\n",
       "      <td>14</td>\n",
       "      <td>...</td>\n",
       "      <td>4006</td>\n",
       "      <td>5799347067982556520:-1;509660095530134768:-1;5...</td>\n",
       "      <td>6765930309048922341</td>\n",
       "      <td>4</td>\n",
       "      <td>1.000000</td>\n",
       "      <td>5002</td>\n",
       "      <td>1.000000</td>\n",
       "      <td>1.000000</td>\n",
       "      <td>1.000000</td>\n",
       "      <td>0</td>\n",
       "    </tr>\n",
       "    <tr>\n",
       "      <th>1</th>\n",
       "      <td>5754713551599725161</td>\n",
       "      <td>3412720377098676069</td>\n",
       "      <td>7908382889764677758;5799347067982556520</td>\n",
       "      <td>2072967855524022579;5131280576272319091;263639...</td>\n",
       "      <td>1975590437749032870</td>\n",
       "      <td>3948283326616421003</td>\n",
       "      <td>3</td>\n",
       "      <td>3</td>\n",
       "      <td>4</td>\n",
       "      <td>14</td>\n",
       "      <td>...</td>\n",
       "      <td>4001</td>\n",
       "      <td>5799347067982556520:9172976955054793469;790838...</td>\n",
       "      <td>6765930309048922341</td>\n",
       "      <td>4</td>\n",
       "      <td>1.000000</td>\n",
       "      <td>5002</td>\n",
       "      <td>1.000000</td>\n",
       "      <td>1.000000</td>\n",
       "      <td>1.000000</td>\n",
       "      <td>0</td>\n",
       "    </tr>\n",
       "    <tr>\n",
       "      <th>2</th>\n",
       "      <td>842679481291040981</td>\n",
       "      <td>3412720377098676069</td>\n",
       "      <td>7908382889764677758;5799347067982556520</td>\n",
       "      <td>2072967855524022579;5131280576272319091;263639...</td>\n",
       "      <td>1975590437749032870</td>\n",
       "      <td>3948283326616421003</td>\n",
       "      <td>3</td>\n",
       "      <td>3</td>\n",
       "      <td>4</td>\n",
       "      <td>14</td>\n",
       "      <td>...</td>\n",
       "      <td>4001</td>\n",
       "      <td>5799347067982556520:5131280576272319091;725801...</td>\n",
       "      <td>6765930309048922341</td>\n",
       "      <td>4</td>\n",
       "      <td>1.000000</td>\n",
       "      <td>5002</td>\n",
       "      <td>1.000000</td>\n",
       "      <td>1.000000</td>\n",
       "      <td>1.000000</td>\n",
       "      <td>0</td>\n",
       "    </tr>\n",
       "    <tr>\n",
       "      <th>3</th>\n",
       "      <td>937088850059189027</td>\n",
       "      <td>3412720377098676069</td>\n",
       "      <td>7908382889764677758;5799347067982556520</td>\n",
       "      <td>2072967855524022579;5131280576272319091;263639...</td>\n",
       "      <td>1975590437749032870</td>\n",
       "      <td>3948283326616421003</td>\n",
       "      <td>3</td>\n",
       "      <td>3</td>\n",
       "      <td>4</td>\n",
       "      <td>14</td>\n",
       "      <td>...</td>\n",
       "      <td>4016</td>\n",
       "      <td>509660095530134768:-1;5799347067982556520:-1;7...</td>\n",
       "      <td>6765930309048922341</td>\n",
       "      <td>4</td>\n",
       "      <td>1.000000</td>\n",
       "      <td>5002</td>\n",
       "      <td>1.000000</td>\n",
       "      <td>1.000000</td>\n",
       "      <td>1.000000</td>\n",
       "      <td>0</td>\n",
       "    </tr>\n",
       "    <tr>\n",
       "      <th>4</th>\n",
       "      <td>7975697065017708072</td>\n",
       "      <td>3412720377098676069</td>\n",
       "      <td>7908382889764677758;5799347067982556520</td>\n",
       "      <td>2072967855524022579;5131280576272319091;263639...</td>\n",
       "      <td>1975590437749032870</td>\n",
       "      <td>3948283326616421003</td>\n",
       "      <td>3</td>\n",
       "      <td>3</td>\n",
       "      <td>4</td>\n",
       "      <td>14</td>\n",
       "      <td>...</td>\n",
       "      <td>4001</td>\n",
       "      <td>5799347067982556520:9172976955054793469;790838...</td>\n",
       "      <td>6765930309048922341</td>\n",
       "      <td>4</td>\n",
       "      <td>1.000000</td>\n",
       "      <td>5002</td>\n",
       "      <td>1.000000</td>\n",
       "      <td>1.000000</td>\n",
       "      <td>1.000000</td>\n",
       "      <td>0</td>\n",
       "    </tr>\n",
       "    <tr>\n",
       "      <th>5</th>\n",
       "      <td>7764762765372067286</td>\n",
       "      <td>3412720377098676069</td>\n",
       "      <td>7908382889764677758;5799347067982556520</td>\n",
       "      <td>2072967855524022579;5131280576272319091;263639...</td>\n",
       "      <td>1975590437749032870</td>\n",
       "      <td>3948283326616421003</td>\n",
       "      <td>3</td>\n",
       "      <td>3</td>\n",
       "      <td>4</td>\n",
       "      <td>14</td>\n",
       "      <td>...</td>\n",
       "      <td>4003</td>\n",
       "      <td>5799347067982556520:9172976955054793469;871073...</td>\n",
       "      <td>6765930309048922341</td>\n",
       "      <td>4</td>\n",
       "      <td>1.000000</td>\n",
       "      <td>5002</td>\n",
       "      <td>1.000000</td>\n",
       "      <td>1.000000</td>\n",
       "      <td>1.000000</td>\n",
       "      <td>0</td>\n",
       "    </tr>\n",
       "    <tr>\n",
       "      <th>6</th>\n",
       "      <td>6956333474094867789</td>\n",
       "      <td>285660928590172217</td>\n",
       "      <td>7908382889764677758;8277336076276184272</td>\n",
       "      <td>2072967855524022579;5131280576272319091;263639...</td>\n",
       "      <td>9057103201734987852</td>\n",
       "      <td>548352491538518780</td>\n",
       "      <td>8</td>\n",
       "      <td>9</td>\n",
       "      <td>8</td>\n",
       "      <td>13</td>\n",
       "      <td>...</td>\n",
       "      <td>4001</td>\n",
       "      <td>2011981573061447208:7199361004668592209;827733...</td>\n",
       "      <td>4885989684392199728</td>\n",
       "      <td>15</td>\n",
       "      <td>0.985427</td>\n",
       "      <td>5012</td>\n",
       "      <td>0.974878</td>\n",
       "      <td>0.976863</td>\n",
       "      <td>0.969278</td>\n",
       "      <td>0</td>\n",
       "    </tr>\n",
       "    <tr>\n",
       "      <th>7</th>\n",
       "      <td>8387099821892927911</td>\n",
       "      <td>285660928590172217</td>\n",
       "      <td>7908382889764677758;8277336076276184272</td>\n",
       "      <td>2072967855524022579;5131280576272319091;263639...</td>\n",
       "      <td>9057103201734987852</td>\n",
       "      <td>548352491538518780</td>\n",
       "      <td>8</td>\n",
       "      <td>9</td>\n",
       "      <td>8</td>\n",
       "      <td>13</td>\n",
       "      <td>...</td>\n",
       "      <td>4001</td>\n",
       "      <td>2011981573061447208:7199361004668592209;827733...</td>\n",
       "      <td>4885989684392199728</td>\n",
       "      <td>15</td>\n",
       "      <td>0.985427</td>\n",
       "      <td>5012</td>\n",
       "      <td>0.974878</td>\n",
       "      <td>0.976863</td>\n",
       "      <td>0.969278</td>\n",
       "      <td>0</td>\n",
       "    </tr>\n",
       "    <tr>\n",
       "      <th>8</th>\n",
       "      <td>4021878205550012615</td>\n",
       "      <td>5202355029344881809</td>\n",
       "      <td>7908382889764677758;5755694407684602296</td>\n",
       "      <td>2072967855524022579;5131280576272319091;263639...</td>\n",
       "      <td>5520678735822176314</td>\n",
       "      <td>548352491538518780</td>\n",
       "      <td>8</td>\n",
       "      <td>9</td>\n",
       "      <td>10</td>\n",
       "      <td>16</td>\n",
       "      <td>...</td>\n",
       "      <td>4001</td>\n",
       "      <td>5755694407684602296:-1;5799347067982556520:-1;...</td>\n",
       "      <td>4885989684392199728</td>\n",
       "      <td>15</td>\n",
       "      <td>0.985427</td>\n",
       "      <td>5012</td>\n",
       "      <td>0.974878</td>\n",
       "      <td>0.976863</td>\n",
       "      <td>0.969278</td>\n",
       "      <td>0</td>\n",
       "    </tr>\n",
       "    <tr>\n",
       "      <th>9</th>\n",
       "      <td>6499571365974135517</td>\n",
       "      <td>285660928590172217</td>\n",
       "      <td>7908382889764677758;8277336076276184272</td>\n",
       "      <td>2072967855524022579;5131280576272319091;263639...</td>\n",
       "      <td>9057103201734987852</td>\n",
       "      <td>548352491538518780</td>\n",
       "      <td>8</td>\n",
       "      <td>9</td>\n",
       "      <td>8</td>\n",
       "      <td>13</td>\n",
       "      <td>...</td>\n",
       "      <td>4003</td>\n",
       "      <td>8277336076276184272:820214312075361939;5096600...</td>\n",
       "      <td>4885989684392199728</td>\n",
       "      <td>15</td>\n",
       "      <td>0.985427</td>\n",
       "      <td>5012</td>\n",
       "      <td>0.974878</td>\n",
       "      <td>0.976863</td>\n",
       "      <td>0.969278</td>\n",
       "      <td>0</td>\n",
       "    </tr>\n",
       "  </tbody>\n",
       "</table>\n",
       "<p>10 rows × 27 columns</p>\n",
       "</div>"
      ],
      "text/plain": [
       "           instance_id              item_id  \\\n",
       "0   108641074714126964  3412720377098676069   \n",
       "1  5754713551599725161  3412720377098676069   \n",
       "2   842679481291040981  3412720377098676069   \n",
       "3   937088850059189027  3412720377098676069   \n",
       "4  7975697065017708072  3412720377098676069   \n",
       "5  7764762765372067286  3412720377098676069   \n",
       "6  6956333474094867789   285660928590172217   \n",
       "7  8387099821892927911   285660928590172217   \n",
       "8  4021878205550012615  5202355029344881809   \n",
       "9  6499571365974135517   285660928590172217   \n",
       "\n",
       "                        item_category_list  \\\n",
       "0  7908382889764677758;5799347067982556520   \n",
       "1  7908382889764677758;5799347067982556520   \n",
       "2  7908382889764677758;5799347067982556520   \n",
       "3  7908382889764677758;5799347067982556520   \n",
       "4  7908382889764677758;5799347067982556520   \n",
       "5  7908382889764677758;5799347067982556520   \n",
       "6  7908382889764677758;8277336076276184272   \n",
       "7  7908382889764677758;8277336076276184272   \n",
       "8  7908382889764677758;5755694407684602296   \n",
       "9  7908382889764677758;8277336076276184272   \n",
       "\n",
       "                                  item_property_list        item_brand_id  \\\n",
       "0  2072967855524022579;5131280576272319091;263639...  1975590437749032870   \n",
       "1  2072967855524022579;5131280576272319091;263639...  1975590437749032870   \n",
       "2  2072967855524022579;5131280576272319091;263639...  1975590437749032870   \n",
       "3  2072967855524022579;5131280576272319091;263639...  1975590437749032870   \n",
       "4  2072967855524022579;5131280576272319091;263639...  1975590437749032870   \n",
       "5  2072967855524022579;5131280576272319091;263639...  1975590437749032870   \n",
       "6  2072967855524022579;5131280576272319091;263639...  9057103201734987852   \n",
       "7  2072967855524022579;5131280576272319091;263639...  9057103201734987852   \n",
       "8  2072967855524022579;5131280576272319091;263639...  5520678735822176314   \n",
       "9  2072967855524022579;5131280576272319091;263639...  9057103201734987852   \n",
       "\n",
       "          item_city_id  item_price_level  item_sales_level  \\\n",
       "0  3948283326616421003                 3                 3   \n",
       "1  3948283326616421003                 3                 3   \n",
       "2  3948283326616421003                 3                 3   \n",
       "3  3948283326616421003                 3                 3   \n",
       "4  3948283326616421003                 3                 3   \n",
       "5  3948283326616421003                 3                 3   \n",
       "6   548352491538518780                 8                 9   \n",
       "7   548352491538518780                 8                 9   \n",
       "8   548352491538518780                 8                 9   \n",
       "9   548352491538518780                 8                 9   \n",
       "\n",
       "   item_collected_level  item_pv_level    ...     context_page_id  \\\n",
       "0                     4             14    ...                4006   \n",
       "1                     4             14    ...                4001   \n",
       "2                     4             14    ...                4001   \n",
       "3                     4             14    ...                4016   \n",
       "4                     4             14    ...                4001   \n",
       "5                     4             14    ...                4003   \n",
       "6                     8             13    ...                4001   \n",
       "7                     8             13    ...                4001   \n",
       "8                    10             16    ...                4001   \n",
       "9                     8             13    ...                4003   \n",
       "\n",
       "                           predict_category_property              shop_id  \\\n",
       "0  5799347067982556520:-1;509660095530134768:-1;5...  6765930309048922341   \n",
       "1  5799347067982556520:9172976955054793469;790838...  6765930309048922341   \n",
       "2  5799347067982556520:5131280576272319091;725801...  6765930309048922341   \n",
       "3  509660095530134768:-1;5799347067982556520:-1;7...  6765930309048922341   \n",
       "4  5799347067982556520:9172976955054793469;790838...  6765930309048922341   \n",
       "5  5799347067982556520:9172976955054793469;871073...  6765930309048922341   \n",
       "6  2011981573061447208:7199361004668592209;827733...  4885989684392199728   \n",
       "7  2011981573061447208:7199361004668592209;827733...  4885989684392199728   \n",
       "8  5755694407684602296:-1;5799347067982556520:-1;...  4885989684392199728   \n",
       "9  8277336076276184272:820214312075361939;5096600...  4885989684392199728   \n",
       "\n",
       "   shop_review_num_level  shop_review_positive_rate  shop_star_level  \\\n",
       "0                      4                   1.000000             5002   \n",
       "1                      4                   1.000000             5002   \n",
       "2                      4                   1.000000             5002   \n",
       "3                      4                   1.000000             5002   \n",
       "4                      4                   1.000000             5002   \n",
       "5                      4                   1.000000             5002   \n",
       "6                     15                   0.985427             5012   \n",
       "7                     15                   0.985427             5012   \n",
       "8                     15                   0.985427             5012   \n",
       "9                     15                   0.985427             5012   \n",
       "\n",
       "   shop_score_service  shop_score_delivery shop_score_description  is_trade  \n",
       "0            1.000000             1.000000               1.000000         0  \n",
       "1            1.000000             1.000000               1.000000         0  \n",
       "2            1.000000             1.000000               1.000000         0  \n",
       "3            1.000000             1.000000               1.000000         0  \n",
       "4            1.000000             1.000000               1.000000         0  \n",
       "5            1.000000             1.000000               1.000000         0  \n",
       "6            0.974878             0.976863               0.969278         0  \n",
       "7            0.974878             0.976863               0.969278         0  \n",
       "8            0.974878             0.976863               0.969278         0  \n",
       "9            0.974878             0.976863               0.969278         0  \n",
       "\n",
       "[10 rows x 27 columns]"
      ]
     },
     "execution_count": 100,
     "metadata": {},
     "output_type": "execute_result"
    }
   ],
   "source": [
    "df.head(10)"
   ]
  },
  {
   "cell_type": "code",
   "execution_count": 60,
   "metadata": {},
   "outputs": [
    {
     "name": "stderr",
     "output_type": "stream",
     "text": [
      "c:\\ricy\\python\\lib\\site-packages\\ipykernel_launcher.py:3: FutureWarning: elementwise comparison failed; returning scalar instead, but in the future will perform elementwise comparison\n",
      "  This is separate from the ipykernel package so we can avoid doing imports until\n"
     ]
    },
    {
     "name": "stdout",
     "output_type": "stream",
     "text": [
      "item_brand_id\n",
      "item_city_id\n",
      "item_sales_level\n",
      "user_gender_id\n",
      "user_age_level\n",
      "user_occupation_id\n",
      "user_star_level\n",
      "predict_category_property\n",
      "shop_review_positive_rate\n",
      "shop_score_service\n",
      "shop_score_delivery\n",
      "shop_score_description\n"
     ]
    }
   ],
   "source": [
    "# 有缺值的column\n",
    "for column in df.columns:\n",
    "    if -1 in df[column].unique() or '-1' in df[column].unique():\n",
    "        print(column)"
   ]
  },
  {
   "cell_type": "code",
   "execution_count": 61,
   "metadata": {},
   "outputs": [
    {
     "data": {
      "text/plain": [
       "(22, 18    102083\n",
       " 17     84444\n",
       " 19     81253\n",
       " 16     62440\n",
       " 20     42761\n",
       " 15     41479\n",
       " 14     25548\n",
       " 13     13828\n",
       " 21      9321\n",
       " 12      7292\n",
       " 11      3885\n",
       " 10      1845\n",
       " 9        913\n",
       " 8        449\n",
       " 7        245\n",
       " 0        123\n",
       " 6        116\n",
       " 5         63\n",
       " 4         33\n",
       " 3         11\n",
       " 2          5\n",
       " 1          1\n",
       " Name: item_pv_level, dtype: int64)"
      ]
     },
     "execution_count": 61,
     "metadata": {},
     "output_type": "execute_result"
    }
   ],
   "source": [
    "df['item_category_list'].value_counts()\n",
    "len(df['item_price_level'].value_counts()), df['item_price_level'].value_counts()\n",
    "len(df['item_sales_level'].value_counts()), df['item_sales_level'].value_counts()\n",
    "len(df['item_collected_level'].value_counts()), df['item_collected_level'].value_counts()\n",
    "len(df['item_pv_level'].value_counts()), df['item_pv_level'].value_counts()"
   ]
  },
  {
   "cell_type": "code",
   "execution_count": null,
   "metadata": {},
   "outputs": [],
   "source": []
  },
  {
   "cell_type": "code",
   "execution_count": 63,
   "metadata": {
    "collapsed": true
   },
   "outputs": [],
   "source": [
    "adDf = df[['item_category_list', \n",
    "            'item_property_list', 'item_brand_id', 'item_city_id',\n",
    "          'item_price_level', 'item_sales_level', 'item_collected_level', 'item_pv_level']]"
   ]
  },
  {
   "cell_type": "code",
   "execution_count": 8,
   "metadata": {
    "scrolled": true
   },
   "outputs": [
    {
     "name": "stdout",
     "output_type": "stream",
     "text": [
      "['7908382889764677758;5799347067982556520'\n",
      " '7908382889764677758;8277336076276184272'\n",
      " '7908382889764677758;5755694407684602296'\n",
      " '7908382889764677758;4879721024980945592'\n",
      " '7908382889764677758;509660095530134768'\n",
      " '7908382889764677758;2436715285093487584'\n",
      " '7908382889764677758;7258015885215914736'\n",
      " '7908382889764677758;8710739180200009128'\n",
      " '7908382889764677758;2011981573061447208'\n",
      " '7908382889764677758;22731265849056483'\n",
      " '7908382889764677758;3203673979138763595'\n",
      " '7908382889764677758;2642175453151805566;8868887661186419229'\n",
      " '7908382889764677758;1968056100269760729'\n",
      " '7908382889764677758;2642175453151805566;6233669177166538628']\n"
     ]
    },
    {
     "data": {
      "image/png": "[encoded data removed]",
      "text/plain": [
       "<matplotlib.figure.Figure at 0x4a8c550>"
      ]
     },
     "metadata": {},
     "output_type": "display_data"
    },
    {
     "name": "stdout",
     "output_type": "stream",
     "text": [
      "[ 3  8  7  5  4  6  9  2 10  1 11  0 17 16]\n"
     ]
    },
    {
     "data": {
      "image/png": "[encoded data removed]",
      "text/plain": [
       "<matplotlib.figure.Figure at 0xffb8128>"
      ]
     },
     "metadata": {},
     "output_type": "display_data"
    },
    {
     "name": "stdout",
     "output_type": "stream",
     "text": [
      "[ 3  9  7  6  4 10 14 11  8 13 12  5 16 15  1  2 -1 17]\n"
     ]
    },
    {
     "data": {
      "image/png": "[encoded data removed]",
      "text/plain": [
       "<matplotlib.figure.Figure at 0xb61e320>"
      ]
     },
     "metadata": {},
     "output_type": "display_data"
    },
    {
     "name": "stdout",
     "output_type": "stream",
     "text": [
      "[ 4  8 10 13  6  3  7 12 11 15  9 14  5  2 16 17  1  0]\n"
     ]
    },
    {
     "data": {
      "image/png": "[encoded data removed]",
      "text/plain": [
       "<matplotlib.figure.Figure at 0xb656208>"
      ]
     },
     "metadata": {},
     "output_type": "display_data"
    },
    {
     "name": "stdout",
     "output_type": "stream",
     "text": [
      "[14 13 16 12  6  8 18 19 17 20 15 11 10  9 21  5  7  4  2  3  0  1]\n"
     ]
    },
    {
     "data": {
      "image/png": "[encoded data removed]",
      "text/plain": [
       "<matplotlib.figure.Figure at 0xb592208>"
      ]
     },
     "metadata": {},
     "output_type": "display_data"
    }
   ],
   "source": [
    "for column in ['item_category_list', \n",
    "#             'item_property_list', 'item_brand_id', 'item_city_id',\n",
    "          'item_price_level', 'item_sales_level', 'item_collected_level', 'item_pv_level']:\n",
    "    print(df[column].unique())\n",
    "    sns.countplot(x=column, hue=\"is_trade\", data=df)\n",
    "    plt.show()"
   ]
  },
  {
   "cell_type": "code",
   "execution_count": 9,
   "metadata": {
    "scrolled": true
   },
   "outputs": [
    {
     "name": "stdout",
     "output_type": "stream",
     "text": [
      "[ 1  0  2 -1]\n"
     ]
    },
    {
     "data": {
      "image/png": "[encoded data removed]",
      "text/plain": [
       "<matplotlib.figure.Figure at 0x19e14ef0>"
      ]
     },
     "metadata": {},
     "output_type": "display_data"
    },
    {
     "name": "stdout",
     "output_type": "stream",
     "text": [
      "[1003 1002 1004 1006 1005   -1 1007 1000 1001]\n"
     ]
    },
    {
     "data": {
      "image/png": "[encoded data removed]",
      "text/plain": [
       "<matplotlib.figure.Figure at 0x1111ab70>"
      ]
     },
     "metadata": {},
     "output_type": "display_data"
    },
    {
     "name": "stdout",
     "output_type": "stream",
     "text": [
      "[2005 2002 2004   -1 2003]\n"
     ]
    },
    {
     "data": {
      "image/png": "[encoded data removed]",
      "text/plain": [
       "<matplotlib.figure.Figure at 0x11312be0>"
      ]
     },
     "metadata": {},
     "output_type": "display_data"
    },
    {
     "name": "stdout",
     "output_type": "stream",
     "text": [
      "[3003 3006 3004 3001 3002 3000 3007 3005 3008   -1 3009 3010]\n"
     ]
    },
    {
     "data": {
      "image/png": "[encoded data removed]",
      "text/plain": [
       "<matplotlib.figure.Figure at 0x112abf60>"
      ]
     },
     "metadata": {},
     "output_type": "display_data"
    },
    {
     "name": "stdout",
     "output_type": "stream",
     "text": [
      "[4006 4001 4016 4003 4010 4005 4020 4014 4007 4002 4004 4015 4011 4012 4009\n",
      " 4018 4008 4017 4013 4019]\n"
     ]
    },
    {
     "data": {
      "image/png": "[encoded data removed]",
      "text/plain": [
       "<matplotlib.figure.Figure at 0xb797320>"
      ]
     },
     "metadata": {},
     "output_type": "display_data"
    }
   ],
   "source": [
    "for column in ['user_gender_id', 'user_age_level', 'user_occupation_id', 'user_star_level', 'context_page_id']:\n",
    "    print(df[column].unique())\n",
    "    sns.countplot(x=column, hue=\"is_trade\", data=df)\n",
    "    plt.show()"
   ]
  },
  {
   "cell_type": "code",
   "execution_count": 64,
   "metadata": {},
   "outputs": [
    {
     "name": "stdout",
     "output_type": "stream",
     "text": [
      "25\n",
      "11825\n",
      "22\n",
      "16361\n",
      "16423\n",
      "16463\n"
     ]
    }
   ],
   "source": [
    "for column in ['shop_review_num_level', 'shop_review_positive_rate', 'shop_star_level', \n",
    "               'shop_score_service', 'shop_score_delivery', 'shop_score_description']:\n",
    "    print(len(df[column].unique()))\n",
    "    "
   ]
  },
  {
   "cell_type": "code",
   "execution_count": 68,
   "metadata": {
    "collapsed": true
   },
   "outputs": [],
   "source": [
    "# tmpDf = df.groupby(['item_id', 'user_id']).count()\n",
    "# tmpDf = tmpDf[tmpDf['context_timestamp']>1]\n",
    "# tmpDf.reset_index(level=['item_id', 'user_id'], inplace=True)"
   ]
  },
  {
   "cell_type": "code",
   "execution_count": 69,
   "metadata": {},
   "outputs": [
    {
     "data": {
      "text/html": [
       "<div>\n",
       "<style>\n",
       "    .dataframe thead tr:only-child th {\n",
       "        text-align: right;\n",
       "    }\n",
       "\n",
       "    .dataframe thead th {\n",
       "        text-align: left;\n",
       "    }\n",
       "\n",
       "    .dataframe tbody tr th {\n",
       "        vertical-align: top;\n",
       "    }\n",
       "</style>\n",
       "<table border=\"1\" class=\"dataframe\">\n",
       "  <thead>\n",
       "    <tr style=\"text-align: right;\">\n",
       "      <th></th>\n",
       "      <th>context_timestamp</th>\n",
       "      <th>is_trade</th>\n",
       "    </tr>\n",
       "  </thead>\n",
       "  <tbody>\n",
       "    <tr>\n",
       "      <th>66321</th>\n",
       "      <td>2018-09-18 05:35:30</td>\n",
       "      <td>0</td>\n",
       "    </tr>\n",
       "    <tr>\n",
       "      <th>66326</th>\n",
       "      <td>2018-09-18 05:14:01</td>\n",
       "      <td>0</td>\n",
       "    </tr>\n",
       "    <tr>\n",
       "      <th>66359</th>\n",
       "      <td>2018-09-18 13:45:46</td>\n",
       "      <td>0</td>\n",
       "    </tr>\n",
       "    <tr>\n",
       "      <th>66367</th>\n",
       "      <td>2018-09-18 05:12:54</td>\n",
       "      <td>0</td>\n",
       "    </tr>\n",
       "    <tr>\n",
       "      <th>210880</th>\n",
       "      <td>2018-09-19 07:32:00</td>\n",
       "      <td>0</td>\n",
       "    </tr>\n",
       "    <tr>\n",
       "      <th>210899</th>\n",
       "      <td>2018-09-19 03:17:58</td>\n",
       "      <td>0</td>\n",
       "    </tr>\n",
       "  </tbody>\n",
       "</table>\n",
       "</div>"
      ],
      "text/plain": [
       "         context_timestamp  is_trade\n",
       "66321  2018-09-18 05:35:30         0\n",
       "66326  2018-09-18 05:14:01         0\n",
       "66359  2018-09-18 13:45:46         0\n",
       "66367  2018-09-18 05:12:54         0\n",
       "210880 2018-09-19 07:32:00         0\n",
       "210899 2018-09-19 03:17:58         0"
      ]
     },
     "execution_count": 69,
     "metadata": {},
     "output_type": "execute_result"
    }
   ],
   "source": [
    "# tmpDf[['item_id', 'user_id', 'context_timestamp']]\n",
    "# df[(df['item_id']==1637165183538885) & (df['user_id']==658311192682316915)][['context_timestamp', 'is_trade']]"
   ]
  },
  {
   "cell_type": "markdown",
   "metadata": {},
   "source": [
    "## check null columns"
   ]
  },
  {
   "cell_type": "code",
   "execution_count": 5,
   "metadata": {
    "scrolled": true
   },
   "outputs": [
    {
     "name": "stdout",
     "output_type": "stream",
     "text": [
      "column: item_sales_level, shape: (0, 27)\n",
      "column: user_gender_id, shape: (0, 27)\n",
      "column: user_age_level, shape: (0, 27)\n",
      "column: user_occupation_id, shape: (0, 27)\n",
      "column: user_star_level, shape: (0, 27)\n",
      "column: shop_review_positive_rate, shape: (0, 27)\n",
      "column: shop_score_service, shape: (0, 27)\n",
      "column: shop_score_delivery, shape: (0, 27)\n",
      "column: shop_score_description, shape: (0, 27)\n",
      "(0, 27) (0, 27) (0, 27)\n"
     ]
    }
   ],
   "source": [
    "containNullColumns = ['item_sales_level',  'user_gender_id', 'user_age_level', 'user_occupation_id', 'user_star_level',\n",
    "                      'shop_review_positive_rate', 'shop_score_service', 'shop_score_delivery', 'shop_score_description']\n",
    "def checkNullColumns():    \n",
    "    for column in containNullColumns:\n",
    "        print('column: {}, shape: {}'.format(column, df[df[column]==-1].shape))\n",
    "    print(df[(df['user_age_level']==-1)&(df['user_occupation_id']==-1)&(df['user_star_level']==-1)].shape,\n",
    "            df[(df['shop_score_service']==-1)&(df['shop_score_delivery']==-1)&(df['shop_score_description']==-1)].shape,\n",
    "            df[(df['shop_score_service']==-1)&(df['shop_score_delivery']==-1)&(df['shop_score_description']==-1)&(df['shop_review_positive_rate']==-1)].shape)\n",
    "checkNullColumns()"
   ]
  },
  {
   "cell_type": "markdown",
   "metadata": {
    "collapsed": true
   },
   "source": [
    "### shop"
   ]
  },
  {
   "cell_type": "code",
   "execution_count": 14,
   "metadata": {
    "scrolled": true
   },
   "outputs": [
    {
     "name": "stdout",
     "output_type": "stream",
     "text": [
      "find shop id: 8172492564864361863\n",
      "find shop id: 8570304355210578603\n",
      "find shop id: 1795831258328604125\n",
      "find shop id: 7383135473821620309\n",
      "find shop id: 4524540991699130969\n"
     ]
    },
    {
     "data": {
      "text/plain": [
       "(5, 14)"
      ]
     },
     "execution_count": 14,
     "metadata": {},
     "output_type": "execute_result"
    }
   ],
   "source": [
    "findCount = 0\n",
    "notFindCount = 0 \n",
    "for shopId in df[df['shop_score_service']==-1]['shop_id'].unique():\n",
    "    tmpDf = df[(df['shop_id']==shopId)&(df['shop_score_service']!=-1)]\n",
    "    if tmpDf.shape[0]>0:\n",
    "        findCount = findCount+1\n",
    "        print(\"find shop id: {}\".format(shopId))\n",
    "    else:\n",
    "        notFindCount = notFindCount+1\n",
    "#         print(\"can't find shop id: {}\".format(shopId))\n",
    "findCount, notFindCount"
   ]
  },
  {
   "cell_type": "markdown",
   "metadata": {
    "collapsed": true
   },
   "source": [
    "### user"
   ]
  },
  {
   "cell_type": "code",
   "execution_count": 15,
   "metadata": {},
   "outputs": [
    {
     "data": {
      "text/plain": [
       "(128, 5420)"
      ]
     },
     "execution_count": 15,
     "metadata": {},
     "output_type": "execute_result"
    }
   ],
   "source": [
    "findCount = 0\n",
    "notFindCount = 0 \n",
    "for user_id in df[df['user_gender_id']==-1]['user_id'].unique():\n",
    "    tmpDf = df[(df['user_id']==user_id)&(df['user_gender_id']!=-1)]\n",
    "    if tmpDf.shape[0]>0:\n",
    "        findCount = findCount+1\n",
    "    else:\n",
    "        notFindCount = notFindCount+1\n",
    "findCount, notFindCount"
   ]
  },
  {
   "cell_type": "code",
   "execution_count": 16,
   "metadata": {},
   "outputs": [
    {
     "data": {
      "text/plain": [
       "(46, 405)"
      ]
     },
     "execution_count": 16,
     "metadata": {},
     "output_type": "execute_result"
    }
   ],
   "source": [
    "findCount = 0\n",
    "notFindCount = 0 \n",
    "for user_id in df[df['user_age_level']==-1]['user_id'].unique():\n",
    "    tmpDf = df[(df['user_id']==user_id)&(df['user_age_level']!=-1)]\n",
    "    if tmpDf.shape[0]>0:\n",
    "        findCount = findCount+1\n",
    "    else:\n",
    "        notFindCount = notFindCount+1\n",
    "findCount, notFindCount"
   ]
  },
  {
   "cell_type": "markdown",
   "metadata": {
    "collapsed": true
   },
   "source": [
    "### item"
   ]
  },
  {
   "cell_type": "code",
   "execution_count": 17,
   "metadata": {},
   "outputs": [
    {
     "data": {
      "text/plain": [
       "(77, 218)"
      ]
     },
     "execution_count": 17,
     "metadata": {},
     "output_type": "execute_result"
    }
   ],
   "source": [
    "findCount = 0\n",
    "notFindCount = 0 \n",
    "for item_id in df[df['item_sales_level']==-1]['item_id'].unique():\n",
    "    tmpDf = df[(df['item_id']==item_id)&(df['item_sales_level']!=-1)]\n",
    "    if tmpDf.shape[0]>0:\n",
    "        findCount = findCount+1\n",
    "    else:\n",
    "        notFindCount = notFindCount+1\n",
    "findCount, notFindCount"
   ]
  },
  {
   "cell_type": "markdown",
   "metadata": {},
   "source": [
    "## handle null item"
   ]
  },
  {
   "cell_type": "code",
   "execution_count": 14,
   "metadata": {},
   "outputs": [],
   "source": [
    "## 查找id，在相同id里以最多的count的进行补全\n",
    "# mapArray = [('item_sales_level', 'item_id', ['item_sales_level']), \n",
    "#             ('user_gender_id', 'user_id', ['user_gender_id']),\n",
    "#             ('user_age_level', 'user_id', ['user_age_level', 'user_occupation_id', 'user_star_level']),\n",
    "#             ('shop_review_positive_rate', 'shop_id', ['user_age_level', 'user_occupation_id', 'user_star_level']),\n",
    "#             ('shop_score_service', 'shop_id', ['shop_score_service', 'shop_score_delivery', 'shop_score_description'])]\n",
    "# for columnMap in mapArray:\n",
    "#     for index in df[df[columnMap[0]]==-1].index.values:\n",
    "#         item = df.loc[index]\n",
    "#         itemId = item[columnMap[1]]\n",
    "#         tmpDf = df[(df[columnMap[1]]==itemId)&(df[columnMap[0]]!=-1)]\n",
    "#         if tmpDf.shape[0]>0:\n",
    "#             for fillColumn in columnMap[2]:\n",
    "#                 valueArray = df[(df[columnMap[1]]==itemId)&(df[columnMap[0]]==1)][fillColumn].value_counts().index.values\n",
    "#                 if len(valueArray)>0:\n",
    "#                     df[(df[fillColumn]==-1)&(df[columnMap[1]]==itemId)] = valueArray[0]\n",
    "from sklearn.preprocessing import Imputer\n",
    "def handleNullItem(df):\n",
    "    contain_missing_value_columns = [\"item_brand_id\",\"item_city_id\",\"item_sales_level\",\"user_gender_id\",\"user_age_level\",\n",
    "                                \"user_occupation_id\",\"user_star_level\",\"shop_review_positive_rate\",\n",
    "                                \"shop_score_service\",\"shop_score_delivery\",\"shop_score_description\"]\n",
    "    data_imputer = Imputer(missing_values=-1 , strategy='most_frequent', axis=0)\n",
    "    df[contain_missing_value_columns] = data_imputer.fit_transform(df[contain_missing_value_columns])\n",
    "    ## drop na rows\n",
    "    df = df[(df[contain_missing_value_columns]!=-1).all(axis=1)]\n",
    "    return df\n",
    "df = handleNullItem(df)"
   ]
  },
  {
   "cell_type": "code",
   "execution_count": 113,
   "metadata": {
    "scrolled": true
   },
   "outputs": [
    {
     "name": "stdout",
     "output_type": "stream",
     "text": [
      "column: item_sales_level, shape: (0, 29)\n",
      "column: user_gender_id, shape: (0, 29)\n",
      "column: user_age_level, shape: (0, 29)\n",
      "column: user_occupation_id, shape: (0, 29)\n",
      "column: user_star_level, shape: (0, 29)\n",
      "column: shop_review_positive_rate, shape: (0, 29)\n",
      "column: shop_score_service, shape: (0, 29)\n",
      "column: shop_score_delivery, shape: (0, 29)\n",
      "column: shop_score_description, shape: (0, 29)\n",
      "(0, 29) (0, 29) (0, 29)\n"
     ]
    }
   ],
   "source": [
    "checkNullColumns()"
   ]
  },
  {
   "cell_type": "code",
   "execution_count": null,
   "metadata": {},
   "outputs": [],
   "source": []
  },
  {
   "cell_type": "markdown",
   "metadata": {},
   "source": [
    "# handle timestamp"
   ]
  },
  {
   "cell_type": "code",
   "execution_count": 15,
   "metadata": {
    "scrolled": true
   },
   "outputs": [
    {
     "data": {
      "text/plain": [
       "('2018-09-24 23:59:47', '2018-09-18 00:00:01')"
      ]
     },
     "execution_count": 15,
     "metadata": {},
     "output_type": "execute_result"
    }
   ],
   "source": [
    "# oneHotColumns =['item_category_list', 'user_gender_id', 'user_occupation_id', 'context_page_id', 'item_city_id'] \n",
    "import time\n",
    "def handleTimeStamp(df):\n",
    "    def timestamp_datetime(value):\n",
    "        format = '%Y-%m-%d %H:%M:%S'\n",
    "        value = time.localtime(value)\n",
    "        dt = time.strftime(format, value)\n",
    "        return dt\n",
    "    df['time'] = df.context_timestamp.apply(timestamp_datetime)\n",
    "    df['day'] = df.time.apply(lambda x: int(x[8:10]))\n",
    "    df['hour'] = df.time.apply(lambda x: int(x[11:13]))\n",
    "    return df\n",
    "df = handleTimeStamp(df)\n",
    "df['time'].max(), df['time'].min()"
   ]
  },
  {
   "cell_type": "code",
   "execution_count": 46,
   "metadata": {
    "scrolled": false
   },
   "outputs": [
    {
     "data": {
      "image/png": "[encoded data removed]",
      "text/plain": [
       "<matplotlib.figure.Figure at 0xba76748>"
      ]
     },
     "metadata": {},
     "output_type": "display_data"
    },
    {
     "data": {
      "image/png": "[encoded data removed]",
      "text/plain": [
       "<matplotlib.figure.Figure at 0x11167cf8>"
      ]
     },
     "metadata": {},
     "output_type": "display_data"
    }
   ],
   "source": [
    "sns.countplot(x='hour', hue=\"is_trade\", data=df)\n",
    "plt.show()\n",
    "sns.countplot(x='day', hue=\"is_trade\", data=df)\n",
    "plt.show()"
   ]
  },
  {
   "cell_type": "markdown",
   "metadata": {},
   "source": [
    "# split Data"
   ]
  },
  {
   "cell_type": "code",
   "execution_count": 16,
   "metadata": {
    "scrolled": true
   },
   "outputs": [],
   "source": [
    "def split_train_test_data(df, online=False):\n",
    "    y_column = ['is_trade']\n",
    "    if online == False:\n",
    "        trainData = df[df.day_24!=1]\n",
    "        testData = df[df.day_24==1]\n",
    "        trainX = trainData.drop(y_column, axis=1)\n",
    "        testX = testData.drop(y_column, axis=1)\n",
    "        trainY = trainData[y_column]\n",
    "        testY = testData[y_column]\n",
    "    else:\n",
    "        train = trainData.copy()\n",
    "        test = []  # To do\n",
    "    return trainX, trainY, testX, testY\n",
    "x_column = ['item_category_list', 'user_gender_id', 'user_occupation_id', 'context_page_id', 'item_city_id', 'hour', 'day',\n",
    "              'item_price_level', 'item_sales_level', 'item_collected_level', 'item_pv_level',\n",
    "              'shop_review_num_level', 'shop_review_positive_rate', 'shop_star_level', 'shop_score_service', 'shop_score_delivery',\n",
    "              'shop_score_description']\n",
    "df = df[x_column+['is_trade']]\n",
    "oneHotColumns = ['item_category_list', 'user_gender_id', 'user_occupation_id', 'context_page_id', 'item_city_id', 'hour', 'day']\n",
    "df = pd.get_dummies(df, columns=oneHotColumns)\n",
    "trainX, trainY, testX, testY = split_train_test_data(df)"
   ]
  },
  {
   "cell_type": "markdown",
   "metadata": {},
   "source": [
    "# training"
   ]
  },
  {
   "cell_type": "code",
   "execution_count": 17,
   "metadata": {
    "scrolled": true
   },
   "outputs": [],
   "source": [
    "import lightgbm as lgb\n",
    "from sklearn.metrics import log_loss"
   ]
  },
  {
   "cell_type": "code",
   "execution_count": 18,
   "metadata": {},
   "outputs": [
    {
     "name": "stdout",
     "output_type": "stream",
     "text": [
      "start training\n"
     ]
    },
    {
     "name": "stderr",
     "output_type": "stream",
     "text": [
      "c:\\ricy\\python\\lib\\site-packages\\sklearn\\preprocessing\\label.py:112: DataConversionWarning: A column-vector y was passed when a 1d array was expected. Please change the shape of y to (n_samples, ), for example using ravel().\n",
      "  y = column_or_1d(y, warn=True)\n",
      "c:\\ricy\\python\\lib\\site-packages\\sklearn\\preprocessing\\label.py:147: DataConversionWarning: A column-vector y was passed when a 1d array was expected. Please change the shape of y to (n_samples, ), for example using ravel().\n",
      "  y = column_or_1d(y, warn=True)\n"
     ]
    },
    {
     "name": "stdout",
     "output_type": "stream",
     "text": [
      "[1]\tvalid_0's binary_logloss: 0.683887\n",
      "Training until validation scores don't improve for 50 rounds.\n",
      "[2]\tvalid_0's binary_logloss: 0.674808\n",
      "[3]\tvalid_0's binary_logloss: 0.665908\n",
      "[4]\tvalid_0's binary_logloss: 0.657181\n",
      "[5]\tvalid_0's binary_logloss: 0.648622\n",
      "[6]\tvalid_0's binary_logloss: 0.640226\n",
      "[7]\tvalid_0's binary_logloss: 0.631989\n",
      "[8]\tvalid_0's binary_logloss: 0.623907\n",
      "[9]\tvalid_0's binary_logloss: 0.615974\n",
      "[10]\tvalid_0's binary_logloss: 0.60819\n",
      "[11]\tvalid_0's binary_logloss: 0.600547\n",
      "[12]\tvalid_0's binary_logloss: 0.593044\n",
      "[13]\tvalid_0's binary_logloss: 0.585675\n",
      "[14]\tvalid_0's binary_logloss: 0.578439\n",
      "[15]\tvalid_0's binary_logloss: 0.571332\n",
      "[16]\tvalid_0's binary_logloss: 0.564349\n",
      "[17]\tvalid_0's binary_logloss: 0.557488\n",
      "[18]\tvalid_0's binary_logloss: 0.550748\n",
      "[19]\tvalid_0's binary_logloss: 0.544124\n",
      "[20]\tvalid_0's binary_logloss: 0.537615\n",
      "[21]\tvalid_0's binary_logloss: 0.531215\n",
      "[22]\tvalid_0's binary_logloss: 0.524925\n",
      "[23]\tvalid_0's binary_logloss: 0.51874\n",
      "[24]\tvalid_0's binary_logloss: 0.51266\n",
      "[25]\tvalid_0's binary_logloss: 0.50668\n",
      "[26]\tvalid_0's binary_logloss: 0.5008\n",
      "[27]\tvalid_0's binary_logloss: 0.495016\n",
      "[28]\tvalid_0's binary_logloss: 0.489328\n",
      "[29]\tvalid_0's binary_logloss: 0.483732\n",
      "[30]\tvalid_0's binary_logloss: 0.478226\n",
      "[31]\tvalid_0's binary_logloss: 0.472808\n",
      "[32]\tvalid_0's binary_logloss: 0.46748\n",
      "[33]\tvalid_0's binary_logloss: 0.462233\n",
      "[34]\tvalid_0's binary_logloss: 0.457071\n",
      "[35]\tvalid_0's binary_logloss: 0.45199\n",
      "[36]\tvalid_0's binary_logloss: 0.446991\n",
      "[37]\tvalid_0's binary_logloss: 0.442065\n",
      "[38]\tvalid_0's binary_logloss: 0.43722\n",
      "[39]\tvalid_0's binary_logloss: 0.432448\n",
      "[40]\tvalid_0's binary_logloss: 0.42775\n",
      "[41]\tvalid_0's binary_logloss: 0.423122\n",
      "[42]\tvalid_0's binary_logloss: 0.418567\n",
      "[43]\tvalid_0's binary_logloss: 0.414081\n",
      "[44]\tvalid_0's binary_logloss: 0.409663\n",
      "[45]\tvalid_0's binary_logloss: 0.40531\n",
      "[46]\tvalid_0's binary_logloss: 0.401024\n",
      "[47]\tvalid_0's binary_logloss: 0.396801\n",
      "[48]\tvalid_0's binary_logloss: 0.39264\n",
      "[49]\tvalid_0's binary_logloss: 0.388543\n",
      "[50]\tvalid_0's binary_logloss: 0.384505\n",
      "[51]\tvalid_0's binary_logloss: 0.380526\n",
      "[52]\tvalid_0's binary_logloss: 0.376607\n",
      "[53]\tvalid_0's binary_logloss: 0.372743\n",
      "[54]\tvalid_0's binary_logloss: 0.368936\n",
      "[55]\tvalid_0's binary_logloss: 0.365183\n",
      "[56]\tvalid_0's binary_logloss: 0.361486\n",
      "[57]\tvalid_0's binary_logloss: 0.35784\n",
      "[58]\tvalid_0's binary_logloss: 0.354249\n",
      "[59]\tvalid_0's binary_logloss: 0.350707\n",
      "[60]\tvalid_0's binary_logloss: 0.347216\n",
      "[61]\tvalid_0's binary_logloss: 0.343775\n",
      "[62]\tvalid_0's binary_logloss: 0.340383\n",
      "[63]\tvalid_0's binary_logloss: 0.337037\n",
      "[64]\tvalid_0's binary_logloss: 0.33374\n",
      "[65]\tvalid_0's binary_logloss: 0.330488\n",
      "[66]\tvalid_0's binary_logloss: 0.327284\n",
      "[67]\tvalid_0's binary_logloss: 0.324121\n",
      "[68]\tvalid_0's binary_logloss: 0.321004\n",
      "[69]\tvalid_0's binary_logloss: 0.31793\n",
      "[70]\tvalid_0's binary_logloss: 0.314898\n",
      "[71]\tvalid_0's binary_logloss: 0.311907\n",
      "[72]\tvalid_0's binary_logloss: 0.308958\n",
      "[73]\tvalid_0's binary_logloss: 0.306049\n",
      "[74]\tvalid_0's binary_logloss: 0.30318\n",
      "[75]\tvalid_0's binary_logloss: 0.300351\n",
      "[76]\tvalid_0's binary_logloss: 0.297559\n",
      "[77]\tvalid_0's binary_logloss: 0.294806\n",
      "[78]\tvalid_0's binary_logloss: 0.292091\n",
      "[79]\tvalid_0's binary_logloss: 0.28941\n",
      "[80]\tvalid_0's binary_logloss: 0.286768\n",
      "[81]\tvalid_0's binary_logloss: 0.28416\n",
      "[82]\tvalid_0's binary_logloss: 0.281587\n",
      "[83]\tvalid_0's binary_logloss: 0.27905\n",
      "[84]\tvalid_0's binary_logloss: 0.276546\n",
      "[85]\tvalid_0's binary_logloss: 0.274074\n",
      "[86]\tvalid_0's binary_logloss: 0.271636\n",
      "[87]\tvalid_0's binary_logloss: 0.269231\n",
      "[88]\tvalid_0's binary_logloss: 0.266856\n",
      "[89]\tvalid_0's binary_logloss: 0.264514\n",
      "[90]\tvalid_0's binary_logloss: 0.262203\n",
      "[91]\tvalid_0's binary_logloss: 0.259921\n",
      "[92]\tvalid_0's binary_logloss: 0.25767\n",
      "[93]\tvalid_0's binary_logloss: 0.255448\n",
      "[94]\tvalid_0's binary_logloss: 0.253255\n",
      "[95]\tvalid_0's binary_logloss: 0.25109\n",
      "[96]\tvalid_0's binary_logloss: 0.248954\n",
      "[97]\tvalid_0's binary_logloss: 0.246846\n",
      "[98]\tvalid_0's binary_logloss: 0.244767\n",
      "[99]\tvalid_0's binary_logloss: 0.242714\n",
      "[100]\tvalid_0's binary_logloss: 0.240685\n",
      "[101]\tvalid_0's binary_logloss: 0.238684\n",
      "[102]\tvalid_0's binary_logloss: 0.23671\n",
      "[103]\tvalid_0's binary_logloss: 0.23476\n",
      "[104]\tvalid_0's binary_logloss: 0.232837\n",
      "[105]\tvalid_0's binary_logloss: 0.230937\n",
      "[106]\tvalid_0's binary_logloss: 0.229062\n",
      "[107]\tvalid_0's binary_logloss: 0.227211\n",
      "[108]\tvalid_0's binary_logloss: 0.225383\n",
      "[109]\tvalid_0's binary_logloss: 0.223579\n",
      "[110]\tvalid_0's binary_logloss: 0.221799\n",
      "[111]\tvalid_0's binary_logloss: 0.220041\n",
      "[112]\tvalid_0's binary_logloss: 0.218305\n",
      "[113]\tvalid_0's binary_logloss: 0.216592\n",
      "[114]\tvalid_0's binary_logloss: 0.2149\n",
      "[115]\tvalid_0's binary_logloss: 0.213229\n",
      "[116]\tvalid_0's binary_logloss: 0.21158\n",
      "[117]\tvalid_0's binary_logloss: 0.209951\n",
      "[118]\tvalid_0's binary_logloss: 0.208343\n",
      "[119]\tvalid_0's binary_logloss: 0.206755\n",
      "[120]\tvalid_0's binary_logloss: 0.205189\n",
      "[121]\tvalid_0's binary_logloss: 0.203641\n",
      "[122]\tvalid_0's binary_logloss: 0.202113\n",
      "[123]\tvalid_0's binary_logloss: 0.200604\n",
      "[124]\tvalid_0's binary_logloss: 0.199114\n",
      "[125]\tvalid_0's binary_logloss: 0.197644\n",
      "[126]\tvalid_0's binary_logloss: 0.196191\n",
      "[127]\tvalid_0's binary_logloss: 0.194756\n",
      "[128]\tvalid_0's binary_logloss: 0.193341\n",
      "[129]\tvalid_0's binary_logloss: 0.191943\n",
      "[130]\tvalid_0's binary_logloss: 0.190563\n",
      "[131]\tvalid_0's binary_logloss: 0.189199\n",
      "[132]\tvalid_0's binary_logloss: 0.187852\n",
      "[133]\tvalid_0's binary_logloss: 0.186522\n",
      "[134]\tvalid_0's binary_logloss: 0.185209\n",
      "[135]\tvalid_0's binary_logloss: 0.183913\n",
      "[136]\tvalid_0's binary_logloss: 0.182632\n",
      "[137]\tvalid_0's binary_logloss: 0.181368\n",
      "[138]\tvalid_0's binary_logloss: 0.18012\n",
      "[139]\tvalid_0's binary_logloss: 0.178887\n",
      "[140]\tvalid_0's binary_logloss: 0.177669\n",
      "[141]\tvalid_0's binary_logloss: 0.176466\n",
      "[142]\tvalid_0's binary_logloss: 0.175279\n",
      "[143]\tvalid_0's binary_logloss: 0.174106\n",
      "[144]\tvalid_0's binary_logloss: 0.172948\n",
      "[145]\tvalid_0's binary_logloss: 0.171803\n",
      "[146]\tvalid_0's binary_logloss: 0.170675\n",
      "[147]\tvalid_0's binary_logloss: 0.169558\n",
      "[148]\tvalid_0's binary_logloss: 0.168457\n",
      "[149]\tvalid_0's binary_logloss: 0.167368\n",
      "[150]\tvalid_0's binary_logloss: 0.166295\n",
      "[151]\tvalid_0's binary_logloss: 0.165234\n",
      "[152]\tvalid_0's binary_logloss: 0.164184\n",
      "[153]\tvalid_0's binary_logloss: 0.163148\n",
      "[154]\tvalid_0's binary_logloss: 0.162125\n",
      "[155]\tvalid_0's binary_logloss: 0.161115\n",
      "[156]\tvalid_0's binary_logloss: 0.160117\n",
      "[157]\tvalid_0's binary_logloss: 0.159132\n",
      "[158]\tvalid_0's binary_logloss: 0.158157\n",
      "[159]\tvalid_0's binary_logloss: 0.157195\n",
      "[160]\tvalid_0's binary_logloss: 0.156246\n",
      "[161]\tvalid_0's binary_logloss: 0.155309\n",
      "[162]\tvalid_0's binary_logloss: 0.154384\n",
      "[163]\tvalid_0's binary_logloss: 0.153468\n",
      "[164]\tvalid_0's binary_logloss: 0.152565\n",
      "[165]\tvalid_0's binary_logloss: 0.151674\n",
      "[166]\tvalid_0's binary_logloss: 0.150793\n",
      "[167]\tvalid_0's binary_logloss: 0.149923\n",
      "[168]\tvalid_0's binary_logloss: 0.149064\n",
      "[169]\tvalid_0's binary_logloss: 0.148216\n",
      "[170]\tvalid_0's binary_logloss: 0.147376\n",
      "[171]\tvalid_0's binary_logloss: 0.146549\n",
      "[172]\tvalid_0's binary_logloss: 0.145731\n",
      "[173]\tvalid_0's binary_logloss: 0.144923\n",
      "[174]\tvalid_0's binary_logloss: 0.144126\n",
      "[175]\tvalid_0's binary_logloss: 0.143339\n",
      "[176]\tvalid_0's binary_logloss: 0.142561\n",
      "[177]\tvalid_0's binary_logloss: 0.141793\n",
      "[178]\tvalid_0's binary_logloss: 0.141032\n",
      "[179]\tvalid_0's binary_logloss: 0.140283\n",
      "[180]\tvalid_0's binary_logloss: 0.139541\n",
      "[181]\tvalid_0's binary_logloss: 0.13881\n",
      "[182]\tvalid_0's binary_logloss: 0.138088\n",
      "[183]\tvalid_0's binary_logloss: 0.137376\n",
      "[184]\tvalid_0's binary_logloss: 0.136673\n",
      "[185]\tvalid_0's binary_logloss: 0.135976\n",
      "[186]\tvalid_0's binary_logloss: 0.13529\n",
      "[187]\tvalid_0's binary_logloss: 0.134612\n",
      "[188]\tvalid_0's binary_logloss: 0.133942\n",
      "[189]\tvalid_0's binary_logloss: 0.133278\n",
      "[190]\tvalid_0's binary_logloss: 0.132625\n",
      "[191]\tvalid_0's binary_logloss: 0.131977\n",
      "[192]\tvalid_0's binary_logloss: 0.131341\n",
      "[193]\tvalid_0's binary_logloss: 0.130712\n",
      "[194]\tvalid_0's binary_logloss: 0.130088\n",
      "[195]\tvalid_0's binary_logloss: 0.129473\n",
      "[196]\tvalid_0's binary_logloss: 0.128866\n",
      "[197]\tvalid_0's binary_logloss: 0.128267\n",
      "[198]\tvalid_0's binary_logloss: 0.127674\n",
      "[199]\tvalid_0's binary_logloss: 0.12709\n",
      "[200]\tvalid_0's binary_logloss: 0.126511\n",
      "[201]\tvalid_0's binary_logloss: 0.12594\n",
      "[202]\tvalid_0's binary_logloss: 0.125377\n",
      "[203]\tvalid_0's binary_logloss: 0.12482\n",
      "[204]\tvalid_0's binary_logloss: 0.124272\n",
      "[205]\tvalid_0's binary_logloss: 0.123729\n",
      "[206]\tvalid_0's binary_logloss: 0.123191\n",
      "[207]\tvalid_0's binary_logloss: 0.122663\n",
      "[208]\tvalid_0's binary_logloss: 0.122139\n"
     ]
    },
    {
     "name": "stdout",
     "output_type": "stream",
     "text": [
      "[209]\tvalid_0's binary_logloss: 0.121623\n",
      "[210]\tvalid_0's binary_logloss: 0.121111\n",
      "[211]\tvalid_0's binary_logloss: 0.120607\n",
      "[212]\tvalid_0's binary_logloss: 0.120111\n",
      "[213]\tvalid_0's binary_logloss: 0.119618\n",
      "[214]\tvalid_0's binary_logloss: 0.119134\n",
      "[215]\tvalid_0's binary_logloss: 0.118655\n",
      "[216]\tvalid_0's binary_logloss: 0.118182\n",
      "[217]\tvalid_0's binary_logloss: 0.117713\n",
      "[218]\tvalid_0's binary_logloss: 0.117251\n",
      "[219]\tvalid_0's binary_logloss: 0.116797\n",
      "[220]\tvalid_0's binary_logloss: 0.116348\n",
      "[221]\tvalid_0's binary_logloss: 0.115903\n",
      "[222]\tvalid_0's binary_logloss: 0.115465\n",
      "[223]\tvalid_0's binary_logloss: 0.115029\n",
      "[224]\tvalid_0's binary_logloss: 0.114601\n",
      "[225]\tvalid_0's binary_logloss: 0.114178\n",
      "[226]\tvalid_0's binary_logloss: 0.113761\n",
      "[227]\tvalid_0's binary_logloss: 0.113349\n",
      "[228]\tvalid_0's binary_logloss: 0.112943\n",
      "[229]\tvalid_0's binary_logloss: 0.112541\n",
      "[230]\tvalid_0's binary_logloss: 0.112144\n",
      "[231]\tvalid_0's binary_logloss: 0.111752\n",
      "[232]\tvalid_0's binary_logloss: 0.111365\n",
      "[233]\tvalid_0's binary_logloss: 0.110984\n",
      "[234]\tvalid_0's binary_logloss: 0.110606\n",
      "[235]\tvalid_0's binary_logloss: 0.110235\n",
      "[236]\tvalid_0's binary_logloss: 0.109867\n",
      "[237]\tvalid_0's binary_logloss: 0.109505\n",
      "[238]\tvalid_0's binary_logloss: 0.109148\n",
      "[239]\tvalid_0's binary_logloss: 0.108794\n",
      "[240]\tvalid_0's binary_logloss: 0.108446\n",
      "[241]\tvalid_0's binary_logloss: 0.108102\n",
      "[242]\tvalid_0's binary_logloss: 0.107763\n",
      "[243]\tvalid_0's binary_logloss: 0.107427\n",
      "[244]\tvalid_0's binary_logloss: 0.107096\n",
      "[245]\tvalid_0's binary_logloss: 0.10677\n",
      "[246]\tvalid_0's binary_logloss: 0.106447\n",
      "[247]\tvalid_0's binary_logloss: 0.106128\n",
      "[248]\tvalid_0's binary_logloss: 0.105814\n",
      "[249]\tvalid_0's binary_logloss: 0.105504\n",
      "[250]\tvalid_0's binary_logloss: 0.105198\n",
      "[251]\tvalid_0's binary_logloss: 0.104895\n",
      "[252]\tvalid_0's binary_logloss: 0.104597\n",
      "[253]\tvalid_0's binary_logloss: 0.104303\n",
      "[254]\tvalid_0's binary_logloss: 0.104012\n",
      "[255]\tvalid_0's binary_logloss: 0.103725\n",
      "[256]\tvalid_0's binary_logloss: 0.103442\n",
      "[257]\tvalid_0's binary_logloss: 0.103161\n",
      "[258]\tvalid_0's binary_logloss: 0.102883\n",
      "[259]\tvalid_0's binary_logloss: 0.10261\n",
      "[260]\tvalid_0's binary_logloss: 0.102341\n",
      "[261]\tvalid_0's binary_logloss: 0.102074\n",
      "[262]\tvalid_0's binary_logloss: 0.10181\n",
      "[263]\tvalid_0's binary_logloss: 0.10155\n",
      "[264]\tvalid_0's binary_logloss: 0.101295\n",
      "[265]\tvalid_0's binary_logloss: 0.101043\n",
      "[266]\tvalid_0's binary_logloss: 0.100793\n",
      "[267]\tvalid_0's binary_logloss: 0.100547\n",
      "[268]\tvalid_0's binary_logloss: 0.100304\n",
      "[269]\tvalid_0's binary_logloss: 0.100065\n",
      "[270]\tvalid_0's binary_logloss: 0.0998284\n",
      "[271]\tvalid_0's binary_logloss: 0.0995955\n",
      "[272]\tvalid_0's binary_logloss: 0.0993654\n",
      "[273]\tvalid_0's binary_logloss: 0.0991375\n",
      "[274]\tvalid_0's binary_logloss: 0.0989134\n",
      "[275]\tvalid_0's binary_logloss: 0.0986911\n",
      "[276]\tvalid_0's binary_logloss: 0.098473\n",
      "[277]\tvalid_0's binary_logloss: 0.0982581\n",
      "[278]\tvalid_0's binary_logloss: 0.0980453\n",
      "[279]\tvalid_0's binary_logloss: 0.0978369\n",
      "[280]\tvalid_0's binary_logloss: 0.0976301\n",
      "[281]\tvalid_0's binary_logloss: 0.0974267\n",
      "[282]\tvalid_0's binary_logloss: 0.0972261\n",
      "[283]\tvalid_0's binary_logloss: 0.0970279\n",
      "[284]\tvalid_0's binary_logloss: 0.0968315\n",
      "[285]\tvalid_0's binary_logloss: 0.0966366\n",
      "[286]\tvalid_0's binary_logloss: 0.0964452\n",
      "[287]\tvalid_0's binary_logloss: 0.0962552\n",
      "[288]\tvalid_0's binary_logloss: 0.0960694\n",
      "[289]\tvalid_0's binary_logloss: 0.0958862\n",
      "[290]\tvalid_0's binary_logloss: 0.0957051\n",
      "[291]\tvalid_0's binary_logloss: 0.0955255\n",
      "[292]\tvalid_0's binary_logloss: 0.0953483\n",
      "[293]\tvalid_0's binary_logloss: 0.0951732\n",
      "[294]\tvalid_0's binary_logloss: 0.0950004\n",
      "[295]\tvalid_0's binary_logloss: 0.0948298\n",
      "[296]\tvalid_0's binary_logloss: 0.0946621\n",
      "[297]\tvalid_0's binary_logloss: 0.0944964\n",
      "[298]\tvalid_0's binary_logloss: 0.094332\n",
      "[299]\tvalid_0's binary_logloss: 0.094171\n",
      "[300]\tvalid_0's binary_logloss: 0.0940112\n",
      "[301]\tvalid_0's binary_logloss: 0.0938542\n",
      "[302]\tvalid_0's binary_logloss: 0.0936988\n",
      "[303]\tvalid_0's binary_logloss: 0.0935444\n",
      "[304]\tvalid_0's binary_logloss: 0.0933918\n",
      "[305]\tvalid_0's binary_logloss: 0.0932442\n",
      "[306]\tvalid_0's binary_logloss: 0.0930953\n",
      "[307]\tvalid_0's binary_logloss: 0.0929486\n",
      "[308]\tvalid_0's binary_logloss: 0.0928061\n",
      "[309]\tvalid_0's binary_logloss: 0.0926641\n",
      "[310]\tvalid_0's binary_logloss: 0.0925224\n",
      "[311]\tvalid_0's binary_logloss: 0.0923861\n",
      "[312]\tvalid_0's binary_logloss: 0.092249\n",
      "[313]\tvalid_0's binary_logloss: 0.092115\n",
      "[314]\tvalid_0's binary_logloss: 0.0919822\n",
      "[315]\tvalid_0's binary_logloss: 0.091852\n",
      "[316]\tvalid_0's binary_logloss: 0.0917237\n",
      "[317]\tvalid_0's binary_logloss: 0.0915962\n",
      "[318]\tvalid_0's binary_logloss: 0.09147\n",
      "[319]\tvalid_0's binary_logloss: 0.091346\n",
      "[320]\tvalid_0's binary_logloss: 0.0912241\n",
      "[321]\tvalid_0's binary_logloss: 0.091104\n",
      "[322]\tvalid_0's binary_logloss: 0.0909846\n",
      "[323]\tvalid_0's binary_logloss: 0.0908675\n",
      "[324]\tvalid_0's binary_logloss: 0.0907521\n",
      "[325]\tvalid_0's binary_logloss: 0.0906376\n",
      "[326]\tvalid_0's binary_logloss: 0.0905264\n",
      "[327]\tvalid_0's binary_logloss: 0.0904148\n",
      "[328]\tvalid_0's binary_logloss: 0.0903058\n",
      "[329]\tvalid_0's binary_logloss: 0.090196\n",
      "[330]\tvalid_0's binary_logloss: 0.0900893\n",
      "[331]\tvalid_0's binary_logloss: 0.0899836\n",
      "[332]\tvalid_0's binary_logloss: 0.0898785\n",
      "[333]\tvalid_0's binary_logloss: 0.0897739\n",
      "[334]\tvalid_0's binary_logloss: 0.0896736\n",
      "[335]\tvalid_0's binary_logloss: 0.0895724\n",
      "[336]\tvalid_0's binary_logloss: 0.0894743\n",
      "[337]\tvalid_0's binary_logloss: 0.0893769\n",
      "[338]\tvalid_0's binary_logloss: 0.0892809\n",
      "[339]\tvalid_0's binary_logloss: 0.0891874\n",
      "[340]\tvalid_0's binary_logloss: 0.0890948\n",
      "[341]\tvalid_0's binary_logloss: 0.0890028\n",
      "[342]\tvalid_0's binary_logloss: 0.0889141\n",
      "[343]\tvalid_0's binary_logloss: 0.0888229\n",
      "[344]\tvalid_0's binary_logloss: 0.0887358\n",
      "[345]\tvalid_0's binary_logloss: 0.0886487\n",
      "[346]\tvalid_0's binary_logloss: 0.0885641\n",
      "[347]\tvalid_0's binary_logloss: 0.088478\n",
      "[348]\tvalid_0's binary_logloss: 0.0883954\n",
      "[349]\tvalid_0's binary_logloss: 0.0883122\n",
      "[350]\tvalid_0's binary_logloss: 0.0882315\n",
      "[351]\tvalid_0's binary_logloss: 0.0881506\n",
      "[352]\tvalid_0's binary_logloss: 0.0880717\n",
      "[353]\tvalid_0's binary_logloss: 0.0879945\n",
      "[354]\tvalid_0's binary_logloss: 0.087918\n",
      "[355]\tvalid_0's binary_logloss: 0.0878418\n",
      "[356]\tvalid_0's binary_logloss: 0.0877665\n",
      "[357]\tvalid_0's binary_logloss: 0.087693\n",
      "[358]\tvalid_0's binary_logloss: 0.0876226\n",
      "[359]\tvalid_0's binary_logloss: 0.0875509\n",
      "[360]\tvalid_0's binary_logloss: 0.0874812\n",
      "[361]\tvalid_0's binary_logloss: 0.087413\n",
      "[362]\tvalid_0's binary_logloss: 0.087347\n",
      "[363]\tvalid_0's binary_logloss: 0.0872766\n",
      "[364]\tvalid_0's binary_logloss: 0.0872099\n",
      "[365]\tvalid_0's binary_logloss: 0.087144\n",
      "[366]\tvalid_0's binary_logloss: 0.0870801\n",
      "[367]\tvalid_0's binary_logloss: 0.0870142\n",
      "[368]\tvalid_0's binary_logloss: 0.0869512\n",
      "[369]\tvalid_0's binary_logloss: 0.0868904\n",
      "[370]\tvalid_0's binary_logloss: 0.0868291\n",
      "[371]\tvalid_0's binary_logloss: 0.0867678\n",
      "[372]\tvalid_0's binary_logloss: 0.086707\n",
      "[373]\tvalid_0's binary_logloss: 0.0866499\n",
      "[374]\tvalid_0's binary_logloss: 0.0865912\n",
      "[375]\tvalid_0's binary_logloss: 0.0865362\n",
      "[376]\tvalid_0's binary_logloss: 0.0864789\n",
      "[377]\tvalid_0's binary_logloss: 0.0864238\n",
      "[378]\tvalid_0's binary_logloss: 0.0863679\n",
      "[379]\tvalid_0's binary_logloss: 0.0863163\n",
      "[380]\tvalid_0's binary_logloss: 0.0862631\n",
      "[381]\tvalid_0's binary_logloss: 0.0862109\n",
      "[382]\tvalid_0's binary_logloss: 0.0861594\n",
      "[383]\tvalid_0's binary_logloss: 0.0861085\n",
      "[384]\tvalid_0's binary_logloss: 0.0860609\n",
      "[385]\tvalid_0's binary_logloss: 0.08601\n",
      "[386]\tvalid_0's binary_logloss: 0.0859607\n",
      "[387]\tvalid_0's binary_logloss: 0.0859148\n",
      "[388]\tvalid_0's binary_logloss: 0.0858662\n",
      "[389]\tvalid_0's binary_logloss: 0.0858203\n",
      "[390]\tvalid_0's binary_logloss: 0.0857752\n",
      "[391]\tvalid_0's binary_logloss: 0.0857291\n",
      "[392]\tvalid_0's binary_logloss: 0.0856861\n",
      "[393]\tvalid_0's binary_logloss: 0.0856417\n",
      "[394]\tvalid_0's binary_logloss: 0.0856005\n",
      "[395]\tvalid_0's binary_logloss: 0.0855566\n",
      "[396]\tvalid_0's binary_logloss: 0.0855144\n",
      "[397]\tvalid_0's binary_logloss: 0.0854728\n",
      "[398]\tvalid_0's binary_logloss: 0.0854302\n",
      "[399]\tvalid_0's binary_logloss: 0.0853902\n",
      "[400]\tvalid_0's binary_logloss: 0.0853498\n",
      "[401]\tvalid_0's binary_logloss: 0.0853137\n",
      "[402]\tvalid_0's binary_logloss: 0.0852747\n",
      "[403]\tvalid_0's binary_logloss: 0.0852374\n",
      "[404]\tvalid_0's binary_logloss: 0.0851985\n",
      "[405]\tvalid_0's binary_logloss: 0.0851605\n",
      "[406]\tvalid_0's binary_logloss: 0.0851249\n",
      "[407]\tvalid_0's binary_logloss: 0.085089\n",
      "[408]\tvalid_0's binary_logloss: 0.0850532\n",
      "[409]\tvalid_0's binary_logloss: 0.0850189\n",
      "[410]\tvalid_0's binary_logloss: 0.0849859\n",
      "[411]\tvalid_0's binary_logloss: 0.0849531\n",
      "[412]\tvalid_0's binary_logloss: 0.0849185\n"
     ]
    },
    {
     "name": "stdout",
     "output_type": "stream",
     "text": [
      "[413]\tvalid_0's binary_logloss: 0.0848844\n",
      "[414]\tvalid_0's binary_logloss: 0.0848535\n",
      "[415]\tvalid_0's binary_logloss: 0.084819\n",
      "[416]\tvalid_0's binary_logloss: 0.0847884\n",
      "[417]\tvalid_0's binary_logloss: 0.0847562\n",
      "[418]\tvalid_0's binary_logloss: 0.0847241\n",
      "[419]\tvalid_0's binary_logloss: 0.0846932\n",
      "[420]\tvalid_0's binary_logloss: 0.084666\n",
      "[421]\tvalid_0's binary_logloss: 0.0846349\n",
      "[422]\tvalid_0's binary_logloss: 0.0846064\n",
      "[423]\tvalid_0's binary_logloss: 0.0845787\n",
      "[424]\tvalid_0's binary_logloss: 0.08455\n",
      "[425]\tvalid_0's binary_logloss: 0.0845212\n",
      "[426]\tvalid_0's binary_logloss: 0.0844947\n",
      "[427]\tvalid_0's binary_logloss: 0.0844685\n",
      "[428]\tvalid_0's binary_logloss: 0.0844423\n",
      "[429]\tvalid_0's binary_logloss: 0.0844168\n",
      "[430]\tvalid_0's binary_logloss: 0.0843901\n",
      "[431]\tvalid_0's binary_logloss: 0.0843638\n",
      "[432]\tvalid_0's binary_logloss: 0.0843387\n",
      "[433]\tvalid_0's binary_logloss: 0.0843137\n",
      "[434]\tvalid_0's binary_logloss: 0.0842898\n",
      "[435]\tvalid_0's binary_logloss: 0.0842663\n",
      "[436]\tvalid_0's binary_logloss: 0.0842435\n",
      "[437]\tvalid_0's binary_logloss: 0.0842216\n",
      "[438]\tvalid_0's binary_logloss: 0.084199\n",
      "[439]\tvalid_0's binary_logloss: 0.0841764\n",
      "[440]\tvalid_0's binary_logloss: 0.0841545\n",
      "[441]\tvalid_0's binary_logloss: 0.0841323\n",
      "[442]\tvalid_0's binary_logloss: 0.0841118\n",
      "[443]\tvalid_0's binary_logloss: 0.0840879\n",
      "[444]\tvalid_0's binary_logloss: 0.0840668\n",
      "[445]\tvalid_0's binary_logloss: 0.0840456\n",
      "[446]\tvalid_0's binary_logloss: 0.0840243\n",
      "[447]\tvalid_0's binary_logloss: 0.0840036\n",
      "[448]\tvalid_0's binary_logloss: 0.083985\n",
      "[449]\tvalid_0's binary_logloss: 0.083963\n",
      "[450]\tvalid_0's binary_logloss: 0.0839431\n",
      "[451]\tvalid_0's binary_logloss: 0.0839246\n",
      "[452]\tvalid_0's binary_logloss: 0.0839065\n",
      "[453]\tvalid_0's binary_logloss: 0.0838883\n",
      "[454]\tvalid_0's binary_logloss: 0.083871\n",
      "[455]\tvalid_0's binary_logloss: 0.0838511\n",
      "[456]\tvalid_0's binary_logloss: 0.0838312\n",
      "[457]\tvalid_0's binary_logloss: 0.0838134\n",
      "[458]\tvalid_0's binary_logloss: 0.0837953\n",
      "[459]\tvalid_0's binary_logloss: 0.0837757\n",
      "[460]\tvalid_0's binary_logloss: 0.0837572\n",
      "[461]\tvalid_0's binary_logloss: 0.0837408\n",
      "[462]\tvalid_0's binary_logloss: 0.0837251\n",
      "[463]\tvalid_0's binary_logloss: 0.0837081\n",
      "[464]\tvalid_0's binary_logloss: 0.0836923\n",
      "[465]\tvalid_0's binary_logloss: 0.0836758\n",
      "[466]\tvalid_0's binary_logloss: 0.083658\n",
      "[467]\tvalid_0's binary_logloss: 0.0836439\n",
      "[468]\tvalid_0's binary_logloss: 0.0836264\n",
      "[469]\tvalid_0's binary_logloss: 0.083609\n",
      "[470]\tvalid_0's binary_logloss: 0.0835927\n",
      "[471]\tvalid_0's binary_logloss: 0.0835773\n",
      "[472]\tvalid_0's binary_logloss: 0.0835643\n",
      "[473]\tvalid_0's binary_logloss: 0.0835479\n",
      "[474]\tvalid_0's binary_logloss: 0.0835337\n",
      "[475]\tvalid_0's binary_logloss: 0.0835194\n",
      "[476]\tvalid_0's binary_logloss: 0.0835071\n",
      "[477]\tvalid_0's binary_logloss: 0.0834942\n",
      "[478]\tvalid_0's binary_logloss: 0.08348\n",
      "[479]\tvalid_0's binary_logloss: 0.0834669\n",
      "[480]\tvalid_0's binary_logloss: 0.0834556\n",
      "[481]\tvalid_0's binary_logloss: 0.0834416\n",
      "[482]\tvalid_0's binary_logloss: 0.0834296\n",
      "[483]\tvalid_0's binary_logloss: 0.0834177\n",
      "[484]\tvalid_0's binary_logloss: 0.0834035\n",
      "[485]\tvalid_0's binary_logloss: 0.0833902\n",
      "[486]\tvalid_0's binary_logloss: 0.0833772\n",
      "[487]\tvalid_0's binary_logloss: 0.0833636\n",
      "[488]\tvalid_0's binary_logloss: 0.0833505\n",
      "[489]\tvalid_0's binary_logloss: 0.0833389\n",
      "[490]\tvalid_0's binary_logloss: 0.0833268\n",
      "[491]\tvalid_0's binary_logloss: 0.0833141\n",
      "[492]\tvalid_0's binary_logloss: 0.083306\n",
      "[493]\tvalid_0's binary_logloss: 0.0832931\n",
      "[494]\tvalid_0's binary_logloss: 0.0832815\n",
      "[495]\tvalid_0's binary_logloss: 0.0832718\n",
      "[496]\tvalid_0's binary_logloss: 0.0832601\n",
      "[497]\tvalid_0's binary_logloss: 0.083248\n",
      "[498]\tvalid_0's binary_logloss: 0.0832369\n",
      "[499]\tvalid_0's binary_logloss: 0.0832267\n",
      "[500]\tvalid_0's binary_logloss: 0.0832152\n",
      "[501]\tvalid_0's binary_logloss: 0.0832049\n",
      "[502]\tvalid_0's binary_logloss: 0.0831958\n",
      "[503]\tvalid_0's binary_logloss: 0.0831855\n",
      "[504]\tvalid_0's binary_logloss: 0.0831766\n",
      "[505]\tvalid_0's binary_logloss: 0.0831662\n",
      "[506]\tvalid_0's binary_logloss: 0.0831574\n",
      "[507]\tvalid_0's binary_logloss: 0.0831492\n",
      "[508]\tvalid_0's binary_logloss: 0.0831386\n",
      "[509]\tvalid_0's binary_logloss: 0.0831277\n",
      "[510]\tvalid_0's binary_logloss: 0.0831195\n",
      "[511]\tvalid_0's binary_logloss: 0.0831108\n",
      "[512]\tvalid_0's binary_logloss: 0.083104\n",
      "[513]\tvalid_0's binary_logloss: 0.0830953\n",
      "[514]\tvalid_0's binary_logloss: 0.083087\n",
      "[515]\tvalid_0's binary_logloss: 0.0830772\n",
      "[516]\tvalid_0's binary_logloss: 0.0830699\n",
      "[517]\tvalid_0's binary_logloss: 0.0830634\n",
      "[518]\tvalid_0's binary_logloss: 0.083054\n",
      "[519]\tvalid_0's binary_logloss: 0.083047\n",
      "[520]\tvalid_0's binary_logloss: 0.0830393\n",
      "[521]\tvalid_0's binary_logloss: 0.0830331\n",
      "[522]\tvalid_0's binary_logloss: 0.0830255\n",
      "[523]\tvalid_0's binary_logloss: 0.0830189\n",
      "[524]\tvalid_0's binary_logloss: 0.0830125\n",
      "[525]\tvalid_0's binary_logloss: 0.0830047\n",
      "[526]\tvalid_0's binary_logloss: 0.0829975\n",
      "[527]\tvalid_0's binary_logloss: 0.0829907\n",
      "[528]\tvalid_0's binary_logloss: 0.0829815\n",
      "[529]\tvalid_0's binary_logloss: 0.0829747\n",
      "[530]\tvalid_0's binary_logloss: 0.082968\n",
      "[531]\tvalid_0's binary_logloss: 0.0829597\n",
      "[532]\tvalid_0's binary_logloss: 0.0829506\n",
      "[533]\tvalid_0's binary_logloss: 0.0829448\n",
      "[534]\tvalid_0's binary_logloss: 0.0829372\n",
      "[535]\tvalid_0's binary_logloss: 0.0829303\n",
      "[536]\tvalid_0's binary_logloss: 0.0829226\n",
      "[537]\tvalid_0's binary_logloss: 0.0829174\n",
      "[538]\tvalid_0's binary_logloss: 0.0829094\n",
      "[539]\tvalid_0's binary_logloss: 0.0829034\n",
      "[540]\tvalid_0's binary_logloss: 0.0828987\n",
      "[541]\tvalid_0's binary_logloss: 0.082893\n",
      "[542]\tvalid_0's binary_logloss: 0.0828884\n",
      "[543]\tvalid_0's binary_logloss: 0.0828839\n",
      "[544]\tvalid_0's binary_logloss: 0.0828779\n",
      "[545]\tvalid_0's binary_logloss: 0.0828727\n",
      "[546]\tvalid_0's binary_logloss: 0.0828667\n",
      "[547]\tvalid_0's binary_logloss: 0.0828614\n",
      "[548]\tvalid_0's binary_logloss: 0.082857\n",
      "[549]\tvalid_0's binary_logloss: 0.0828529\n",
      "[550]\tvalid_0's binary_logloss: 0.0828475\n",
      "[551]\tvalid_0's binary_logloss: 0.0828422\n",
      "[552]\tvalid_0's binary_logloss: 0.0828365\n",
      "[553]\tvalid_0's binary_logloss: 0.0828314\n",
      "[554]\tvalid_0's binary_logloss: 0.0828255\n",
      "[555]\tvalid_0's binary_logloss: 0.0828219\n",
      "[556]\tvalid_0's binary_logloss: 0.0828171\n",
      "[557]\tvalid_0's binary_logloss: 0.0828109\n",
      "[558]\tvalid_0's binary_logloss: 0.082807\n",
      "[559]\tvalid_0's binary_logloss: 0.0828028\n",
      "[560]\tvalid_0's binary_logloss: 0.0827987\n",
      "[561]\tvalid_0's binary_logloss: 0.0827956\n",
      "[562]\tvalid_0's binary_logloss: 0.0827911\n",
      "[563]\tvalid_0's binary_logloss: 0.0827846\n",
      "[564]\tvalid_0's binary_logloss: 0.0827804\n",
      "[565]\tvalid_0's binary_logloss: 0.0827769\n",
      "[566]\tvalid_0's binary_logloss: 0.08277\n",
      "[567]\tvalid_0's binary_logloss: 0.0827653\n",
      "[568]\tvalid_0's binary_logloss: 0.0827605\n",
      "[569]\tvalid_0's binary_logloss: 0.0827575\n",
      "[570]\tvalid_0's binary_logloss: 0.0827523\n",
      "[571]\tvalid_0's binary_logloss: 0.0827489\n",
      "[572]\tvalid_0's binary_logloss: 0.0827456\n",
      "[573]\tvalid_0's binary_logloss: 0.0827427\n",
      "[574]\tvalid_0's binary_logloss: 0.0827399\n",
      "[575]\tvalid_0's binary_logloss: 0.0827342\n",
      "[576]\tvalid_0's binary_logloss: 0.0827309\n",
      "[577]\tvalid_0's binary_logloss: 0.0827273\n",
      "[578]\tvalid_0's binary_logloss: 0.082722\n",
      "[579]\tvalid_0's binary_logloss: 0.082719\n",
      "[580]\tvalid_0's binary_logloss: 0.0827135\n",
      "[581]\tvalid_0's binary_logloss: 0.0827107\n",
      "[582]\tvalid_0's binary_logloss: 0.0827072\n",
      "[583]\tvalid_0's binary_logloss: 0.0827042\n",
      "[584]\tvalid_0's binary_logloss: 0.0827011\n",
      "[585]\tvalid_0's binary_logloss: 0.0826959\n",
      "[586]\tvalid_0's binary_logloss: 0.0826919\n",
      "[587]\tvalid_0's binary_logloss: 0.0826892\n",
      "[588]\tvalid_0's binary_logloss: 0.0826854\n",
      "[589]\tvalid_0's binary_logloss: 0.0826799\n",
      "[590]\tvalid_0's binary_logloss: 0.0826775\n",
      "[591]\tvalid_0's binary_logloss: 0.0826737\n",
      "[592]\tvalid_0's binary_logloss: 0.0826716\n",
      "[593]\tvalid_0's binary_logloss: 0.0826669\n",
      "[594]\tvalid_0's binary_logloss: 0.0826646\n",
      "[595]\tvalid_0's binary_logloss: 0.082663\n",
      "[596]\tvalid_0's binary_logloss: 0.0826599\n",
      "[597]\tvalid_0's binary_logloss: 0.0826576\n",
      "[598]\tvalid_0's binary_logloss: 0.082654\n",
      "[599]\tvalid_0's binary_logloss: 0.082652\n",
      "[600]\tvalid_0's binary_logloss: 0.0826469\n",
      "[601]\tvalid_0's binary_logloss: 0.0826431\n",
      "[602]\tvalid_0's binary_logloss: 0.0826411\n",
      "[603]\tvalid_0's binary_logloss: 0.0826379\n",
      "[604]\tvalid_0's binary_logloss: 0.0826349\n",
      "[605]\tvalid_0's binary_logloss: 0.0826333\n",
      "[606]\tvalid_0's binary_logloss: 0.0826302\n",
      "[607]\tvalid_0's binary_logloss: 0.0826292\n",
      "[608]\tvalid_0's binary_logloss: 0.0826256\n",
      "[609]\tvalid_0's binary_logloss: 0.082623\n",
      "[610]\tvalid_0's binary_logloss: 0.082621\n",
      "[611]\tvalid_0's binary_logloss: 0.0826197\n"
     ]
    },
    {
     "name": "stdout",
     "output_type": "stream",
     "text": [
      "[612]\tvalid_0's binary_logloss: 0.0826181\n",
      "[613]\tvalid_0's binary_logloss: 0.0826157\n",
      "[614]\tvalid_0's binary_logloss: 0.0826129\n",
      "[615]\tvalid_0's binary_logloss: 0.0826106\n",
      "[616]\tvalid_0's binary_logloss: 0.082609\n",
      "[617]\tvalid_0's binary_logloss: 0.0826069\n",
      "[618]\tvalid_0's binary_logloss: 0.0826035\n",
      "[619]\tvalid_0's binary_logloss: 0.0826019\n",
      "[620]\tvalid_0's binary_logloss: 0.082601\n",
      "[621]\tvalid_0's binary_logloss: 0.0825977\n",
      "[622]\tvalid_0's binary_logloss: 0.0825955\n",
      "[623]\tvalid_0's binary_logloss: 0.0825927\n",
      "[624]\tvalid_0's binary_logloss: 0.0825918\n",
      "[625]\tvalid_0's binary_logloss: 0.082589\n",
      "[626]\tvalid_0's binary_logloss: 0.0825872\n",
      "[627]\tvalid_0's binary_logloss: 0.0825851\n",
      "[628]\tvalid_0's binary_logloss: 0.0825832\n",
      "[629]\tvalid_0's binary_logloss: 0.0825801\n",
      "[630]\tvalid_0's binary_logloss: 0.0825769\n",
      "[631]\tvalid_0's binary_logloss: 0.0825746\n",
      "[632]\tvalid_0's binary_logloss: 0.0825726\n",
      "[633]\tvalid_0's binary_logloss: 0.0825713\n",
      "[634]\tvalid_0's binary_logloss: 0.0825688\n",
      "[635]\tvalid_0's binary_logloss: 0.0825649\n",
      "[636]\tvalid_0's binary_logloss: 0.0825656\n",
      "[637]\tvalid_0's binary_logloss: 0.0825645\n",
      "[638]\tvalid_0's binary_logloss: 0.0825619\n",
      "[639]\tvalid_0's binary_logloss: 0.0825614\n",
      "[640]\tvalid_0's binary_logloss: 0.0825547\n",
      "[641]\tvalid_0's binary_logloss: 0.0825535\n",
      "[642]\tvalid_0's binary_logloss: 0.0825518\n",
      "[643]\tvalid_0's binary_logloss: 0.0825469\n",
      "[644]\tvalid_0's binary_logloss: 0.0825473\n",
      "[645]\tvalid_0's binary_logloss: 0.0825461\n",
      "[646]\tvalid_0's binary_logloss: 0.0825429\n",
      "[647]\tvalid_0's binary_logloss: 0.0825417\n",
      "[648]\tvalid_0's binary_logloss: 0.0825415\n",
      "[649]\tvalid_0's binary_logloss: 0.0825404\n",
      "[650]\tvalid_0's binary_logloss: 0.0825407\n",
      "[651]\tvalid_0's binary_logloss: 0.0825364\n",
      "[652]\tvalid_0's binary_logloss: 0.0825354\n",
      "[653]\tvalid_0's binary_logloss: 0.0825302\n",
      "[654]\tvalid_0's binary_logloss: 0.0825284\n",
      "[655]\tvalid_0's binary_logloss: 0.0825265\n",
      "[656]\tvalid_0's binary_logloss: 0.0825267\n",
      "[657]\tvalid_0's binary_logloss: 0.0825225\n",
      "[658]\tvalid_0's binary_logloss: 0.0825201\n",
      "[659]\tvalid_0's binary_logloss: 0.0825168\n",
      "[660]\tvalid_0's binary_logloss: 0.0825142\n",
      "[661]\tvalid_0's binary_logloss: 0.0825138\n",
      "[662]\tvalid_0's binary_logloss: 0.0825114\n",
      "[663]\tvalid_0's binary_logloss: 0.0825107\n",
      "[664]\tvalid_0's binary_logloss: 0.0825097\n",
      "[665]\tvalid_0's binary_logloss: 0.0825043\n",
      "[666]\tvalid_0's binary_logloss: 0.0825019\n",
      "[667]\tvalid_0's binary_logloss: 0.0825008\n",
      "[668]\tvalid_0's binary_logloss: 0.0825011\n",
      "[669]\tvalid_0's binary_logloss: 0.0825005\n",
      "[670]\tvalid_0's binary_logloss: 0.0825008\n",
      "[671]\tvalid_0's binary_logloss: 0.082498\n",
      "[672]\tvalid_0's binary_logloss: 0.0824954\n",
      "[673]\tvalid_0's binary_logloss: 0.0824951\n",
      "[674]\tvalid_0's binary_logloss: 0.082495\n",
      "[675]\tvalid_0's binary_logloss: 0.0824945\n",
      "[676]\tvalid_0's binary_logloss: 0.0824945\n",
      "[677]\tvalid_0's binary_logloss: 0.0824919\n",
      "[678]\tvalid_0's binary_logloss: 0.0824894\n",
      "[679]\tvalid_0's binary_logloss: 0.0824887\n",
      "[680]\tvalid_0's binary_logloss: 0.0824864\n",
      "[681]\tvalid_0's binary_logloss: 0.0824856\n",
      "[682]\tvalid_0's binary_logloss: 0.0824851\n",
      "[683]\tvalid_0's binary_logloss: 0.0824836\n",
      "[684]\tvalid_0's binary_logloss: 0.0824809\n",
      "[685]\tvalid_0's binary_logloss: 0.0824805\n",
      "[686]\tvalid_0's binary_logloss: 0.0824789\n",
      "[687]\tvalid_0's binary_logloss: 0.0824785\n",
      "[688]\tvalid_0's binary_logloss: 0.0824754\n",
      "[689]\tvalid_0's binary_logloss: 0.0824736\n",
      "[690]\tvalid_0's binary_logloss: 0.0824729\n",
      "[691]\tvalid_0's binary_logloss: 0.0824728\n",
      "[692]\tvalid_0's binary_logloss: 0.0824692\n",
      "[693]\tvalid_0's binary_logloss: 0.0824687\n",
      "[694]\tvalid_0's binary_logloss: 0.0824669\n",
      "[695]\tvalid_0's binary_logloss: 0.0824677\n",
      "[696]\tvalid_0's binary_logloss: 0.0824677\n",
      "[697]\tvalid_0's binary_logloss: 0.0824677\n",
      "[698]\tvalid_0's binary_logloss: 0.0824659\n",
      "[699]\tvalid_0's binary_logloss: 0.0824678\n",
      "[700]\tvalid_0's binary_logloss: 0.0824668\n",
      "[701]\tvalid_0's binary_logloss: 0.0824675\n",
      "[702]\tvalid_0's binary_logloss: 0.0824642\n",
      "[703]\tvalid_0's binary_logloss: 0.0824649\n",
      "[704]\tvalid_0's binary_logloss: 0.082465\n",
      "[705]\tvalid_0's binary_logloss: 0.0824654\n",
      "[706]\tvalid_0's binary_logloss: 0.0824665\n",
      "[707]\tvalid_0's binary_logloss: 0.082465\n",
      "[708]\tvalid_0's binary_logloss: 0.0824635\n",
      "[709]\tvalid_0's binary_logloss: 0.0824629\n",
      "[710]\tvalid_0's binary_logloss: 0.0824613\n",
      "[711]\tvalid_0's binary_logloss: 0.0824622\n",
      "[712]\tvalid_0's binary_logloss: 0.0824609\n",
      "[713]\tvalid_0's binary_logloss: 0.0824592\n",
      "[714]\tvalid_0's binary_logloss: 0.0824582\n",
      "[715]\tvalid_0's binary_logloss: 0.0824579\n",
      "[716]\tvalid_0's binary_logloss: 0.0824587\n",
      "[717]\tvalid_0's binary_logloss: 0.0824592\n",
      "[718]\tvalid_0's binary_logloss: 0.0824596\n",
      "[719]\tvalid_0's binary_logloss: 0.0824571\n",
      "[720]\tvalid_0's binary_logloss: 0.082454\n",
      "[721]\tvalid_0's binary_logloss: 0.0824549\n",
      "[722]\tvalid_0's binary_logloss: 0.082455\n",
      "[723]\tvalid_0's binary_logloss: 0.0824516\n",
      "[724]\tvalid_0's binary_logloss: 0.082451\n",
      "[725]\tvalid_0's binary_logloss: 0.082449\n",
      "[726]\tvalid_0's binary_logloss: 0.0824486\n",
      "[727]\tvalid_0's binary_logloss: 0.0824463\n",
      "[728]\tvalid_0's binary_logloss: 0.0824432\n",
      "[729]\tvalid_0's binary_logloss: 0.0824441\n",
      "[730]\tvalid_0's binary_logloss: 0.0824429\n",
      "[731]\tvalid_0's binary_logloss: 0.0824396\n",
      "[732]\tvalid_0's binary_logloss: 0.0824386\n",
      "[733]\tvalid_0's binary_logloss: 0.0824379\n",
      "[734]\tvalid_0's binary_logloss: 0.0824395\n",
      "[735]\tvalid_0's binary_logloss: 0.0824403\n",
      "[736]\tvalid_0's binary_logloss: 0.0824376\n",
      "[737]\tvalid_0's binary_logloss: 0.0824377\n",
      "[738]\tvalid_0's binary_logloss: 0.0824361\n",
      "[739]\tvalid_0's binary_logloss: 0.0824325\n",
      "[740]\tvalid_0's binary_logloss: 0.0824303\n",
      "[741]\tvalid_0's binary_logloss: 0.0824297\n",
      "[742]\tvalid_0's binary_logloss: 0.0824303\n",
      "[743]\tvalid_0's binary_logloss: 0.0824283\n",
      "[744]\tvalid_0's binary_logloss: 0.082426\n",
      "[745]\tvalid_0's binary_logloss: 0.0824259\n",
      "[746]\tvalid_0's binary_logloss: 0.0824267\n",
      "[747]\tvalid_0's binary_logloss: 0.0824275\n",
      "[748]\tvalid_0's binary_logloss: 0.0824286\n",
      "[749]\tvalid_0's binary_logloss: 0.0824307\n",
      "[750]\tvalid_0's binary_logloss: 0.0824317\n",
      "[751]\tvalid_0's binary_logloss: 0.0824283\n",
      "[752]\tvalid_0's binary_logloss: 0.0824278\n",
      "[753]\tvalid_0's binary_logloss: 0.0824286\n",
      "[754]\tvalid_0's binary_logloss: 0.0824308\n",
      "[755]\tvalid_0's binary_logloss: 0.0824317\n",
      "[756]\tvalid_0's binary_logloss: 0.0824328\n",
      "[757]\tvalid_0's binary_logloss: 0.0824334\n",
      "[758]\tvalid_0's binary_logloss: 0.0824333\n",
      "[759]\tvalid_0's binary_logloss: 0.0824314\n",
      "[760]\tvalid_0's binary_logloss: 0.0824303\n",
      "[761]\tvalid_0's binary_logloss: 0.0824318\n",
      "[762]\tvalid_0's binary_logloss: 0.082432\n",
      "[763]\tvalid_0's binary_logloss: 0.0824327\n",
      "[764]\tvalid_0's binary_logloss: 0.082431\n",
      "[765]\tvalid_0's binary_logloss: 0.0824305\n",
      "[766]\tvalid_0's binary_logloss: 0.0824302\n",
      "[767]\tvalid_0's binary_logloss: 0.0824304\n",
      "[768]\tvalid_0's binary_logloss: 0.0824291\n",
      "[769]\tvalid_0's binary_logloss: 0.0824254\n",
      "[770]\tvalid_0's binary_logloss: 0.0824234\n",
      "[771]\tvalid_0's binary_logloss: 0.0824245\n",
      "[772]\tvalid_0's binary_logloss: 0.082426\n",
      "[773]\tvalid_0's binary_logloss: 0.0824255\n",
      "[774]\tvalid_0's binary_logloss: 0.0824252\n",
      "[775]\tvalid_0's binary_logloss: 0.0824261\n",
      "[776]\tvalid_0's binary_logloss: 0.0824244\n",
      "[777]\tvalid_0's binary_logloss: 0.0824226\n",
      "[778]\tvalid_0's binary_logloss: 0.0824214\n",
      "[779]\tvalid_0's binary_logloss: 0.0824219\n",
      "[780]\tvalid_0's binary_logloss: 0.0824227\n",
      "[781]\tvalid_0's binary_logloss: 0.0824212\n",
      "[782]\tvalid_0's binary_logloss: 0.08242\n",
      "[783]\tvalid_0's binary_logloss: 0.082421\n",
      "[784]\tvalid_0's binary_logloss: 0.0824201\n",
      "[785]\tvalid_0's binary_logloss: 0.0824172\n",
      "[786]\tvalid_0's binary_logloss: 0.0824187\n",
      "[787]\tvalid_0's binary_logloss: 0.0824201\n",
      "[788]\tvalid_0's binary_logloss: 0.0824211\n",
      "[789]\tvalid_0's binary_logloss: 0.0824193\n",
      "[790]\tvalid_0's binary_logloss: 0.0824172\n",
      "[791]\tvalid_0's binary_logloss: 0.0824188\n",
      "[792]\tvalid_0's binary_logloss: 0.0824158\n",
      "[793]\tvalid_0's binary_logloss: 0.0824145\n",
      "[794]\tvalid_0's binary_logloss: 0.082412\n",
      "[795]\tvalid_0's binary_logloss: 0.082412\n",
      "[796]\tvalid_0's binary_logloss: 0.0824123\n",
      "[797]\tvalid_0's binary_logloss: 0.0824101\n",
      "[798]\tvalid_0's binary_logloss: 0.0824113\n",
      "[799]\tvalid_0's binary_logloss: 0.0824063\n",
      "[800]\tvalid_0's binary_logloss: 0.0824074\n",
      "[801]\tvalid_0's binary_logloss: 0.0824056\n",
      "[802]\tvalid_0's binary_logloss: 0.0824059\n",
      "[803]\tvalid_0's binary_logloss: 0.0824051\n",
      "[804]\tvalid_0's binary_logloss: 0.0824045\n",
      "[805]\tvalid_0's binary_logloss: 0.0824031\n",
      "[806]\tvalid_0's binary_logloss: 0.0824032\n",
      "[807]\tvalid_0's binary_logloss: 0.0824019\n",
      "[808]\tvalid_0's binary_logloss: 0.0824022\n",
      "[809]\tvalid_0's binary_logloss: 0.0824018\n",
      "[810]\tvalid_0's binary_logloss: 0.0824018\n",
      "[811]\tvalid_0's binary_logloss: 0.082403\n",
      "[812]\tvalid_0's binary_logloss: 0.0824031\n",
      "[813]\tvalid_0's binary_logloss: 0.0824035\n",
      "[814]\tvalid_0's binary_logloss: 0.0824027\n",
      "[815]\tvalid_0's binary_logloss: 0.0824013\n"
     ]
    },
    {
     "name": "stdout",
     "output_type": "stream",
     "text": [
      "[816]\tvalid_0's binary_logloss: 0.0824016\n",
      "[817]\tvalid_0's binary_logloss: 0.0823999\n",
      "[818]\tvalid_0's binary_logloss: 0.0824014\n",
      "[819]\tvalid_0's binary_logloss: 0.0824001\n",
      "[820]\tvalid_0's binary_logloss: 0.0823995\n",
      "[821]\tvalid_0's binary_logloss: 0.0824011\n",
      "[822]\tvalid_0's binary_logloss: 0.0824004\n",
      "[823]\tvalid_0's binary_logloss: 0.0824002\n",
      "[824]\tvalid_0's binary_logloss: 0.0824007\n",
      "[825]\tvalid_0's binary_logloss: 0.0824006\n",
      "[826]\tvalid_0's binary_logloss: 0.0824005\n",
      "[827]\tvalid_0's binary_logloss: 0.0824002\n",
      "[828]\tvalid_0's binary_logloss: 0.0823989\n",
      "[829]\tvalid_0's binary_logloss: 0.0823983\n",
      "[830]\tvalid_0's binary_logloss: 0.082399\n",
      "[831]\tvalid_0's binary_logloss: 0.0823997\n",
      "[832]\tvalid_0's binary_logloss: 0.0823982\n",
      "[833]\tvalid_0's binary_logloss: 0.0823978\n",
      "[834]\tvalid_0's binary_logloss: 0.0823979\n",
      "[835]\tvalid_0's binary_logloss: 0.0823971\n",
      "[836]\tvalid_0's binary_logloss: 0.0823974\n",
      "[837]\tvalid_0's binary_logloss: 0.0823983\n",
      "[838]\tvalid_0's binary_logloss: 0.0823968\n",
      "[839]\tvalid_0's binary_logloss: 0.0823961\n",
      "[840]\tvalid_0's binary_logloss: 0.0823949\n",
      "[841]\tvalid_0's binary_logloss: 0.0823957\n",
      "[842]\tvalid_0's binary_logloss: 0.0823931\n",
      "[843]\tvalid_0's binary_logloss: 0.0823925\n",
      "[844]\tvalid_0's binary_logloss: 0.0823926\n",
      "[845]\tvalid_0's binary_logloss: 0.0823928\n",
      "[846]\tvalid_0's binary_logloss: 0.0823933\n",
      "[847]\tvalid_0's binary_logloss: 0.0823938\n",
      "[848]\tvalid_0's binary_logloss: 0.0823964\n",
      "[849]\tvalid_0's binary_logloss: 0.0823968\n",
      "[850]\tvalid_0's binary_logloss: 0.0823965\n",
      "[851]\tvalid_0's binary_logloss: 0.0823959\n",
      "[852]\tvalid_0's binary_logloss: 0.0823986\n",
      "[853]\tvalid_0's binary_logloss: 0.0823981\n",
      "[854]\tvalid_0's binary_logloss: 0.0823984\n",
      "[855]\tvalid_0's binary_logloss: 0.0823998\n",
      "[856]\tvalid_0's binary_logloss: 0.0824009\n",
      "[857]\tvalid_0's binary_logloss: 0.0824012\n",
      "[858]\tvalid_0's binary_logloss: 0.0824027\n",
      "[859]\tvalid_0's binary_logloss: 0.082402\n",
      "[860]\tvalid_0's binary_logloss: 0.0824035\n",
      "[861]\tvalid_0's binary_logloss: 0.0824043\n",
      "[862]\tvalid_0's binary_logloss: 0.0824038\n",
      "[863]\tvalid_0's binary_logloss: 0.0824024\n",
      "[864]\tvalid_0's binary_logloss: 0.0824021\n",
      "[865]\tvalid_0's binary_logloss: 0.0824038\n",
      "[866]\tvalid_0's binary_logloss: 0.0824034\n",
      "[867]\tvalid_0's binary_logloss: 0.0824037\n",
      "[868]\tvalid_0's binary_logloss: 0.0824033\n",
      "[869]\tvalid_0's binary_logloss: 0.0824045\n",
      "[870]\tvalid_0's binary_logloss: 0.0824022\n",
      "[871]\tvalid_0's binary_logloss: 0.0824029\n",
      "[872]\tvalid_0's binary_logloss: 0.0824021\n",
      "[873]\tvalid_0's binary_logloss: 0.0824022\n",
      "[874]\tvalid_0's binary_logloss: 0.0824032\n",
      "[875]\tvalid_0's binary_logloss: 0.0824027\n",
      "[876]\tvalid_0's binary_logloss: 0.0824034\n",
      "[877]\tvalid_0's binary_logloss: 0.0824029\n",
      "[878]\tvalid_0's binary_logloss: 0.0824019\n",
      "[879]\tvalid_0's binary_logloss: 0.0824016\n",
      "[880]\tvalid_0's binary_logloss: 0.0824033\n",
      "[881]\tvalid_0's binary_logloss: 0.0824054\n",
      "[882]\tvalid_0's binary_logloss: 0.0824059\n",
      "[883]\tvalid_0's binary_logloss: 0.0824041\n",
      "[884]\tvalid_0's binary_logloss: 0.0824054\n",
      "[885]\tvalid_0's binary_logloss: 0.0824054\n",
      "[886]\tvalid_0's binary_logloss: 0.0824056\n",
      "[887]\tvalid_0's binary_logloss: 0.082406\n",
      "[888]\tvalid_0's binary_logloss: 0.0824052\n",
      "[889]\tvalid_0's binary_logloss: 0.0824053\n",
      "[890]\tvalid_0's binary_logloss: 0.0824034\n",
      "[891]\tvalid_0's binary_logloss: 0.0824039\n",
      "[892]\tvalid_0's binary_logloss: 0.0824054\n",
      "[893]\tvalid_0's binary_logloss: 0.0824073\n",
      "Early stopping, best iteration is:\n",
      "[843]\tvalid_0's binary_logloss: 0.0823925\n"
     ]
    },
    {
     "data": {
      "text/plain": [
       "LGBMClassifier(boosting_type='gbdt', class_weight=None, colsample_bytree=1.0,\n",
       "        learning_rate=0.01, max_depth=-1, min_child_samples=20,\n",
       "        min_child_weight=0.001, min_split_gain=0.0, n_estimators=2000,\n",
       "        n_jobs=-1, num_leaves=64, objective='binary', random_state=None,\n",
       "        reg_alpha=0.0, reg_lambda=0.0, silent=True, subsample=1.0,\n",
       "        subsample_for_bin=200000, subsample_freq=1)"
      ]
     },
     "execution_count": 18,
     "metadata": {},
     "output_type": "execute_result"
    }
   ],
   "source": [
    "gbm = lgb.LGBMClassifier(objective='binary',\n",
    "                 num_leaves=64,\n",
    "                 learning_rate=0.01,\n",
    "                 n_estimators=2000)\n",
    "print('start training')\n",
    "gbm.fit(trainX.values, trainY.values,\n",
    "       eval_set=[(testX.values, testY.values)],\n",
    "       eval_metric='binary_logloss',\n",
    "       early_stopping_rounds=50)"
   ]
  },
  {
   "cell_type": "code",
   "execution_count": 19,
   "metadata": {},
   "outputs": [
    {
     "name": "stdout",
     "output_type": "stream",
     "text": [
      "start predicting\n",
      "0.584057259181\n"
     ]
    }
   ],
   "source": [
    "print('start predicting')\n",
    "y_pred_test = gbm.predict(testX.values)\n",
    "print(log_loss(testY.values, y_pred_test))"
   ]
  },
  {
   "cell_type": "code",
   "execution_count": 155,
   "metadata": {},
   "outputs": [
    {
     "data": {
      "text/plain": [
       "(420717, 210)"
      ]
     },
     "execution_count": 155,
     "metadata": {},
     "output_type": "execute_result"
    }
   ],
   "source": [
    "trainX.shape"
   ]
  },
  {
   "cell_type": "code",
   "execution_count": 156,
   "metadata": {},
   "outputs": [
    {
     "data": {
      "text/plain": [
       "(57421, 191)"
      ]
     },
     "execution_count": 156,
     "metadata": {},
     "output_type": "execute_result"
    }
   ],
   "source": [
    "testX.shape"
   ]
  },
  {
   "cell_type": "code",
   "execution_count": 157,
   "metadata": {},
   "outputs": [
    {
     "ename": "NameError",
     "evalue": "name 'trainData' is not defined",
     "output_type": "error",
     "traceback": [
      "\u001b[1;31m---------------------------------------------------------------------------\u001b[0m",
      "\u001b[1;31mNameError\u001b[0m                                 Traceback (most recent call last)",
      "\u001b[1;32m<ipython-input-157-296b417e76f5>\u001b[0m in \u001b[0;36m<module>\u001b[1;34m()\u001b[0m\n\u001b[1;32m----> 1\u001b[1;33m \u001b[0mtrainData\u001b[0m\u001b[1;33m.\u001b[0m\u001b[0mshape\u001b[0m\u001b[1;33m\u001b[0m\u001b[0m\n\u001b[0m",
      "\u001b[1;31mNameError\u001b[0m: name 'trainData' is not defined"
     ]
    }
   ],
   "source": [
    "trainData.shape"
   ]
  },
  {
   "cell_type": "code",
   "execution_count": 12,
   "metadata": {},
   "outputs": [
    {
     "data": {
      "text/plain": [
       "Index(['item_price_level', 'item_sales_level', 'item_collected_level',\n",
       "       'item_pv_level', 'user_age_level', 'user_star_level',\n",
       "       'shop_review_num_level', 'shop_review_positive_rate', 'shop_star_level',\n",
       "       'shop_score_service',\n",
       "       ...\n",
       "       'hour_21', 'hour_22', 'hour_23', 'day_18', 'day_19', 'day_20', 'day_21',\n",
       "       'day_22', 'day_23', 'day_24'],\n",
       "      dtype='object', length=212)"
      ]
     },
     "execution_count": 12,
     "metadata": {},
     "output_type": "execute_result"
    }
   ],
   "source": [
    "df.columns"
   ]
  },
  {
   "cell_type": "code",
   "execution_count": null,
   "metadata": {
    "collapsed": true
   },
   "outputs": [],
   "source": []
  }
 ],
 "metadata": {
  "kernelspec": {
   "display_name": "Python 3",
   "language": "python",
   "name": "python3"
  },
  "language_info": {
   "codemirror_mode": {
    "name": "ipython",
    "version": 3
   },
   "file_extension": ".py",
   "mimetype": "text/x-python",
   "name": "python",
   "nbconvert_exporter": "python",
   "pygments_lexer": "ipython3",
   "version": "3.5.2"
  }
 },
 "nbformat": 4,
 "nbformat_minor": 2
}
